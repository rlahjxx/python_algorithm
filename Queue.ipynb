{
 "cells": [
  {
   "cell_type": "code",
   "execution_count": 1,
   "id": "1b308736",
   "metadata": {},
   "outputs": [],
   "source": [
    "# 큐(Queue) : 선입선출\n",
    "# 데이터 삽입 : enQueue(e 또는 E), 데이터 추출 : deQueue(d 또는 D), 데이터 출력 : p 또는 Q\n",
    "# front, rear 변수 사용"
   ]
  },
  {
   "cell_type": "code",
   "execution_count": 43,
   "id": "0a63d3dc",
   "metadata": {},
   "outputs": [
    {
     "name": "stdout",
     "output_type": "stream",
     "text": [
      "Queue 사이즈 입력 : 10\n"
     ]
    }
   ],
   "source": [
    "queue_size = int(input('Queue 사이즈 입력 : '))\n",
    "queue = [None for _ in range(queue_size)]\n",
    "front = rear = -1"
   ]
  },
  {
   "cell_type": "code",
   "execution_count": 46,
   "id": "a972b11b",
   "metadata": {},
   "outputs": [],
   "source": [
    "def enqueue(data):\n",
    "    global queue, rear\n",
    "    if rear == queue_size -1:\n",
    "        print('큐가 꽉 찼습니다.')\n",
    "        return None\n",
    "    rear += 1\n",
    "    queue[rear] = data\n",
    "\n",
    "def dequeue():\n",
    "    global queue, front\n",
    "    if front == rear:\n",
    "        print('큐가 비었습니다.')\n",
    "        return None\n",
    "    front += 1\n",
    "    data = queue[front]\n",
    "    queue[front] = None\n",
    "    return data\n",
    "\n",
    "def move_queue():\n",
    "    global front, rear, queue\n",
    "    front = 1\n",
    "    while front != rear:\n",
    "        queue[front-1 ] = queue[front]  #  현재  front 자료 추출\n",
    "        front += 1                      #  front 위치 이동\n",
    "    if front:\n",
    "        queue[front-1] = queue[front]   # 마지막 자료 이동\n",
    "        queue[rear] = None              # 마지막 자료  None 처리\n",
    "    else:\n",
    "        queue[0] = None\n",
    "    rear = front-1                      # 마지막 위치 이동\n",
    "    front = -1                          # front 초기화   \n",
    "    \n",
    "def print_queue():\n",
    "    global queue\n",
    "    for i in range(0, len(queue), 1):\n",
    "        print(queue[i])"
   ]
  },
  {
   "cell_type": "code",
   "execution_count": 47,
   "id": "90dbc66d",
   "metadata": {},
   "outputs": [
    {
     "name": "stdout",
     "output_type": "stream",
     "text": [
      "e : enqueue, d : dequeue, p : print, q : quit  -> e\n",
      "삽입할 데이터 입력 : 33\n",
      "e : enqueue, d : dequeue, p : print, q : quit  -> e\n",
      "삽입할 데이터 입력 : ww\n",
      "e : enqueue, d : dequeue, p : print, q : quit  -> q\n",
      "program end !\n"
     ]
    }
   ],
   "source": [
    "if __name__ == '__main__':\n",
    "    while True:\n",
    "        menu = input('e : enqueue, d : dequeue, p : print, q : quit  -> ')\n",
    "        if menu == 'q':\n",
    "            break\n",
    "        if menu == 'e':\n",
    "            data = input('삽입할 데이터 입력 : ')\n",
    "            enqueue(data)\n",
    "        elif menu == 'd':\n",
    "            data = dequeue()\n",
    "            if data:\n",
    "                print('추출된 자료는 ', data)\n",
    "                data = move_queue()\n",
    "            else:\n",
    "                print('추출된 자료 없음')\n",
    "        elif menu == 'p':\n",
    "            print_queue()\n",
    "    print('program end !')"
   ]
  },
  {
   "cell_type": "code",
   "execution_count": 48,
   "id": "bc5d4bc0",
   "metadata": {},
   "outputs": [
    {
     "name": "stdout",
     "output_type": "stream",
     "text": [
      "cc\n",
      "33\n",
      "ww\n",
      "None\n",
      "None\n",
      "None\n",
      "None\n",
      "None\n",
      "None\n",
      "None\n"
     ]
    }
   ],
   "source": [
    "# rear로 차있는 범위까지만 보는 경우\n",
    "# for i in range(0, rear + 1, 1)"
   ]
  },
  {
   "cell_type": "code",
   "execution_count": null,
   "id": "32c3ebf9",
   "metadata": {},
   "outputs": [],
   "source": []
  }
 ],
 "metadata": {
  "kernelspec": {
   "display_name": "Python 3 (ipykernel)",
   "language": "python",
   "name": "python3"
  },
  "language_info": {
   "codemirror_mode": {
    "name": "ipython",
    "version": 3
   },
   "file_extension": ".py",
   "mimetype": "text/x-python",
   "name": "python",
   "nbconvert_exporter": "python",
   "pygments_lexer": "ipython3",
   "version": "3.9.12"
  }
 },
 "nbformat": 4,
 "nbformat_minor": 5
}
