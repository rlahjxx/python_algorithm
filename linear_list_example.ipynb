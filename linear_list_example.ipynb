{
 "cells": [
  {
   "cell_type": "code",
   "execution_count": 1,
   "id": "2e67842d",
   "metadata": {},
   "outputs": [],
   "source": [
    "# 이름 성적을 입력받아 선형연결로 데이터 저장 -> 순서없이 마지막에 연결\n",
    "# name score next\n",
    "# 1. 검색하고자 하는 이름을 입력받아 해당 자료 검색 후 이름과 점수 출력\n",
    "# 2. 입력된 자료를 딕셔너리(이름을 key로, 성적을 value로)로 저장\n",
    "# 3. 성적이 가장 높은 학생의 이름과 성적 출력\n",
    "# 4. 3번에서 찾은 학생의 자료를 삭제 - 딕셔너리와 링크 자료 둘 다 삭제"
   ]
  },
  {
   "cell_type": "code",
   "execution_count": 77,
   "id": "0f73732d",
   "metadata": {},
   "outputs": [
    {
     "ename": "SyntaxError",
     "evalue": "invalid syntax (1659833906.py, line 51)",
     "output_type": "error",
     "traceback": [
      "\u001b[1;36m  Input \u001b[1;32mIn [77]\u001b[1;36m\u001b[0m\n\u001b[1;33m    curr_node.score == max_score:\u001b[0m\n\u001b[1;37m                                 ^\u001b[0m\n\u001b[1;31mSyntaxError\u001b[0m\u001b[1;31m:\u001b[0m invalid syntax\n"
     ]
    }
   ],
   "source": [
    "# # 클래스 정의\n",
    "class Student:\n",
    "    def __init__(self, name, score):\n",
    "        self.name = name\n",
    "        self.score = score\n",
    "        self.next = None\n",
    "\n",
    "# 이름 성적 입력받아 선형연결로 데이터 저장\n",
    "def create_link_data():\n",
    "    global head\n",
    "    while True:\n",
    "        data = input('이름과 성적을 입력하세요 : ').split()\n",
    "        if data[0] == 'q':\n",
    "            break\n",
    "        # 노드 생성\n",
    "        node = Student(data[0], int(data[1]))\n",
    "        # node 추가 시 경우의 수 2가지 -> 처음에 추가, 마지막에 추가\n",
    "        if head == None:  # head의 초기값 설정\n",
    "            head = node  # 만약 head의 값이 None이라면, head에 node 값을 넣어줌 -> head는 data[0]을 가리키고 있음\n",
    "        else:  # 만약 head의 값이 None이 아니라면\n",
    "            c_node = head  # c_node에 head의 값을 넣어줌\n",
    "            while c_node.next:  # c_node의 노드주소가 None이 아닌 경우까지 계속해서 반복\n",
    "                c_node = c_node.next  # c_node에 c_node의 노드주소 입력\n",
    "                c_node.next = node  # c_node의 노드주소에 node 입력\n",
    "\n",
    "# 검색하고자 하는 이름 입력\n",
    "def search_name(name):\n",
    "    curr_node = head\n",
    "    while curr_node.next:\n",
    "        if curr_node.name == name:\n",
    "            return curr_node\n",
    "        curr_node = curr_node.next\n",
    "    if curr_node.name == name:  # curr_name의 노드주소가 None인 경우\n",
    "        return curr_node\n",
    "    else:\n",
    "        return\n",
    "    \n",
    "def link_to_dict():\n",
    "    global head\n",
    "    curr_node = head\n",
    "    while curr_node.next:\n",
    "        student[curr_node.name] = curr_node.score\n",
    "        curr_node = curr_node.next\n",
    "    student[curr_node.name] = curr_node.score  # curr_name의 노드주소가 None인 경우\n",
    "    \n",
    "def search_student_max():\n",
    "    max_score = max([score for name, score in students.items()])\n",
    "    max_data = []\n",
    "    curr_node = head\n",
    "    while curr_node.next:\n",
    "        curr_node.score == max_score:\n",
    "            max_data.append(curr_node)\n",
    "    if curr_node.score == max_score:\n",
    "        max_data.append(curr_node)\n",
    "    return max_data\n",
    "\n",
    "def delete_data(delete):\n",
    "    for data in del_data:\n",
    "        del students[data.name]\n",
    "        del_node(data)\n",
    "        \n",
    "def del_node(data):\n",
    "    global head\n",
    "    curr_node = head\n",
    "    if head.data == data.name:\n",
    "        head = dead.next\n",
    "        del curr_node\n",
    "        return\n",
    "    prev_node = head\n",
    "    while curr_node.next:\n",
    "        if curr_node.name == data.name:\n",
    "            prev_node.next = curr_node.next\n",
    "            del curr_node\n",
    "            return\n",
    "        prev_node = curr_node\n",
    "        curr_node = curr_node.next\n",
    "    if curr_node.name == name:\n",
    "        prev_node.next = None\n",
    "        del curr_node\n",
    "    return\n",
    "            \n",
    "# # 이름에 해당하는 자료 검색\n",
    "# # 입력된 링크 자료를 딕셔너리로 저장\n",
    "# link_data_to_dict()\n",
    "# # 딕셔너리 자료에서 성적이 가장 높은 학생 검색 후 정보 출력\n",
    "# search_student_max()\n",
    "# # 검색된 자료 삭제\n",
    "# delete_data()\n",
    "# # 자료 출력\n",
    "# print_data()"
   ]
  },
  {
   "cell_type": "code",
   "execution_count": 75,
   "id": "6ef26b45",
   "metadata": {},
   "outputs": [
    {
     "name": "stdout",
     "output_type": "stream",
     "text": [
      "이름과 성적을 입력하세요 : a 90\n",
      "이름과 성적을 입력하세요 : b 70\n",
      "이름과 성적을 입력하세요 : c 80\n",
      "이름과 성적을 입력하세요 : q\n"
     ]
    }
   ],
   "source": [
    "head = None\n",
    "students = {}\n",
    "create_link_data()"
   ]
  },
  {
   "cell_type": "code",
   "execution_count": 76,
   "id": "5e1662f0",
   "metadata": {},
   "outputs": [
    {
     "name": "stdout",
     "output_type": "stream",
     "text": [
      "검색하고자 하는 이름 입력 : a\n",
      "a : 90\n"
     ]
    }
   ],
   "source": [
    "# 검색하고자 하는 이름 입력 \n",
    "#    이름에 해당하는 자료 검색\n",
    "name = input('검색하고자 하는 이름 입력 : ')\n",
    "node = search_name(name)\n",
    "if node:\n",
    "    print(f'{node.name} : {node.score}')\n",
    "else:\n",
    "    print('검색하고자 하는 자료 없음 ')"
   ]
  },
  {
   "cell_type": "code",
   "execution_count": null,
   "id": "49379c1a",
   "metadata": {},
   "outputs": [],
   "source": [
    "# 입력된 링크 자료를 딕셔너리로 저장\n",
    "link_data_to_dict()\n",
    "print(students)"
   ]
  },
  {
   "cell_type": "code",
   "execution_count": null,
   "id": "26061b27",
   "metadata": {},
   "outputs": [],
   "source": []
  },
  {
   "cell_type": "code",
   "execution_count": null,
   "id": "35545855",
   "metadata": {},
   "outputs": [],
   "source": []
  },
  {
   "cell_type": "code",
   "execution_count": null,
   "id": "2ab9aa26",
   "metadata": {},
   "outputs": [],
   "source": []
  }
 ],
 "metadata": {
  "kernelspec": {
   "display_name": "Python 3 (ipykernel)",
   "language": "python",
   "name": "python3"
  },
  "language_info": {
   "codemirror_mode": {
    "name": "ipython",
    "version": 3
   },
   "file_extension": ".py",
   "mimetype": "text/x-python",
   "name": "python",
   "nbconvert_exporter": "python",
   "pygments_lexer": "ipython3",
   "version": "3.9.12"
  }
 },
 "nbformat": 4,
 "nbformat_minor": 5
}
