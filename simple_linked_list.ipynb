{
 "cells": [
  {
   "cell_type": "code",
   "execution_count": 1,
   "id": "a12a0d9f",
   "metadata": {},
   "outputs": [],
   "source": [
    "# 단순 연결 리스트 : 떨어진 곳에 위치한 데이터를 화살표로 연결한 것\n",
    "class Node:\n",
    "    def __init__(self):\n",
    "        self.data = None\n",
    "        self.next = None"
   ]
  },
  {
   "cell_type": "code",
   "execution_count": 2,
   "id": "d50a4d05",
   "metadata": {},
   "outputs": [
    {
     "name": "stdout",
     "output_type": "stream",
     "text": [
      "다현 None\n",
      "다현 정연 None\n",
      "다현 정연 쯔위 쯔위\n"
     ]
    }
   ],
   "source": [
    "node1 = Node()\n",
    "node1.data = '다현'\n",
    "print(node1.data, node1.next)\n",
    "\n",
    "node2 = Node()\n",
    "node2.data = '정연'\n",
    "# node1의 다음 자료가 node2라고 연결\n",
    "node1.next = node2\n",
    "print(node1.data, node1.next.data, node1.next.next)\n",
    "\n",
    "node3 = Node()\n",
    "node3.data = '쯔위'\n",
    "node2.next = node3\n",
    "print(node1.data, node1.next.data, node1.next.next.data, node2.next.data)"
   ]
  },
  {
   "cell_type": "code",
   "execution_count": null,
   "id": "73ecb308",
   "metadata": {},
   "outputs": [],
   "source": [
    "# 연결된 자료 출력 -> 순차적 연결이 아니라 동적으로 연결되어 있어서 for 반복문 사용 불가 -> 순차적 연결에만 for문 사용\n",
    "head = node1\n",
    "curr_node = head\n",
    "while curr_node.next:\n",
    "    print(curr_node.data, end = '\\t')\n",
    "    curr_node = curr_node.next\n",
    "print(curr_node.data)"
   ]
  },
  {
   "cell_type": "code",
   "execution_count": 5,
   "id": "0b20c4e4",
   "metadata": {},
   "outputs": [],
   "source": [
    "class Node:\n",
    "    def __init__(self):\n",
    "        self.data = None\n",
    "        self.next = None\n",
    "        \n",
    "def add_node(node):   #    data 오름차순 정렬해서 삽입 \n",
    "    global head\n",
    "    if head.data >= node.data:  # 처음 위치의 앞에 추가할 경우\n",
    "        node.next = head       # head의 주소를 node에 추가\n",
    "        head = node        # head  주소 변경\n",
    "        return\n",
    "    \n",
    "    curr_node = head   # curr_node <-  현재 위치의 node\n",
    "    prev_node = head   # prev_node <-  이전 위치의 node\n",
    "  # node를 추가할 node의 위치( curr_node ) 검색    \n",
    "    while curr_node.next:   #  마지막 노드의 next가 None이 아닐때까지 반복 실행\n",
    "        if curr_node.data >= node.data:  # 중간에 노드 삽입\n",
    "            node.next = prev_node.next   # node.next 에 현재노드의 주소 입력\n",
    "            prev_node.next = node       # 이전 노드의  next에 node 의 주소 입력\n",
    "            return\n",
    "        prev_node = curr_node    #  현재 노드를 다음으로 변경하기 전에 주소 저장\n",
    "        curr_node = curr_node.next #  다음 노드로 이동  \n",
    "         \n",
    "    if node.next == None:   # node가 마지막에 추가 됨\n",
    "        if curr_node.data >= node.data: # 마지막 노드의 자료와 추가된 노드의 자료 비교\n",
    "            node.next = prev_node.next   # 마지막 앞으로 추가\n",
    "            prev_node.next  = node  \n",
    "        else:\n",
    "            curr_node.next = node    # 마지막 다음에 노드 추가\n",
    "            \n",
    "def print_node():  #   전체 자료 출력\n",
    "    curr_node = head   # 시작 위치 지정\n",
    "    while curr_node.next:   # 마지막  노드 전까지 츨력\n",
    "        print(curr_node.data, end='\\t')\n",
    "        curr_node = curr_node.next\n",
    "    print(curr_node.data)   # 마지막 노드 출력\n",
    "def del_node(data):\n",
    "    global head\n",
    "    curr_node = head\n",
    "    if head.data == data:\n",
    "        head = head.next   # head 의 노드 변경 \n",
    "        del curr_node\n",
    "        return\n",
    "    prev_node = head\n",
    "    while curr_node.next:\n",
    "        if curr_node.data == data:\n",
    "            prev_node.next = curr_node.next\n",
    "            del curr_node\n",
    "            return\n",
    "        prev_node = curr_node\n",
    "        curr_node = curr_node.next\n",
    "    if curr_node.data == data:\n",
    "        prev_node.next = None\n",
    "        del curr_node\n",
    "    return"
   ]
  },
  {
   "cell_type": "code",
   "execution_count": 6,
   "id": "4f0b4d9d",
   "metadata": {},
   "outputs": [
    {
     "name": "stdout",
     "output_type": "stream",
     "text": [
      "추가할 노드 데이터 입력 : aa\n",
      "추가할 노드 데이터 입력 : q\n"
     ]
    }
   ],
   "source": [
    "head = None  # Node가 존재하지 않음, 처음 위치 설정\n",
    "while True:\n",
    "    data = input('추가할 노드 데이터 입력 : ')\n",
    "    if data == 'q':\n",
    "        break\n",
    "    # node 생성\n",
    "    node = Node()  # Node 생성\n",
    "    node.data = data\n",
    "    # node 추가시 경우의 수 2 -> 처음 추가, 마지막에 추가\n",
    "    if head == None:\n",
    "        head = node\n",
    "    else:\n",
    "        add_node(node)  # 생성된 노드를 기존 자료의 마지막에 추가"
   ]
  },
  {
   "cell_type": "code",
   "execution_count": 7,
   "id": "826c3897",
   "metadata": {},
   "outputs": [
    {
     "name": "stdout",
     "output_type": "stream",
     "text": [
      "aa\n",
      "삭제전 데이터 노드 \n",
      "aa\n",
      "삭제할 데이터 입력 aa\n",
      "삭제후 데이터 노드 \n"
     ]
    },
    {
     "ename": "AttributeError",
     "evalue": "'NoneType' object has no attribute 'next'",
     "output_type": "error",
     "traceback": [
      "\u001b[1;31m---------------------------------------------------------------------------\u001b[0m",
      "\u001b[1;31mAttributeError\u001b[0m                            Traceback (most recent call last)",
      "Input \u001b[1;32mIn [7]\u001b[0m, in \u001b[0;36m<cell line: 8>\u001b[1;34m()\u001b[0m\n\u001b[0;32m      5\u001b[0m del_node(data)\n\u001b[0;32m      7\u001b[0m \u001b[38;5;28mprint\u001b[39m(\u001b[38;5;124m\"\u001b[39m\u001b[38;5;124m삭제후 데이터 노드 \u001b[39m\u001b[38;5;124m\"\u001b[39m)\n\u001b[1;32m----> 8\u001b[0m \u001b[43mprint_node\u001b[49m\u001b[43m(\u001b[49m\u001b[43m)\u001b[49m\n",
      "Input \u001b[1;32mIn [5]\u001b[0m, in \u001b[0;36mprint_node\u001b[1;34m()\u001b[0m\n\u001b[0;32m     31\u001b[0m \u001b[38;5;28;01mdef\u001b[39;00m \u001b[38;5;21mprint_node\u001b[39m():  \u001b[38;5;66;03m#   전체 자료 출력\u001b[39;00m\n\u001b[0;32m     32\u001b[0m     curr_node \u001b[38;5;241m=\u001b[39m head   \u001b[38;5;66;03m# 시작 위치 지정\u001b[39;00m\n\u001b[1;32m---> 33\u001b[0m     \u001b[38;5;28;01mwhile\u001b[39;00m \u001b[43mcurr_node\u001b[49m\u001b[38;5;241;43m.\u001b[39;49m\u001b[43mnext\u001b[49m:   \u001b[38;5;66;03m# 마지막  노드 전까지 츨력\u001b[39;00m\n\u001b[0;32m     34\u001b[0m         \u001b[38;5;28mprint\u001b[39m(curr_node\u001b[38;5;241m.\u001b[39mdata, end\u001b[38;5;241m=\u001b[39m\u001b[38;5;124m'\u001b[39m\u001b[38;5;130;01m\\t\u001b[39;00m\u001b[38;5;124m'\u001b[39m)\n\u001b[0;32m     35\u001b[0m         curr_node \u001b[38;5;241m=\u001b[39m curr_node\u001b[38;5;241m.\u001b[39mnext\n",
      "\u001b[1;31mAttributeError\u001b[0m: 'NoneType' object has no attribute 'next'"
     ]
    }
   ],
   "source": [
    "print_node()\n",
    "print(\"삭제전 데이터 노드 \")\n",
    "print_node()\n",
    "data = input('삭제할 데이터 입력 ')\n",
    "del_node(data)\n",
    "\n",
    "print(\"삭제후 데이터 노드 \")\n",
    "print_node()"
   ]
  },
  {
   "cell_type": "code",
   "execution_count": null,
   "id": "86538eb2",
   "metadata": {},
   "outputs": [],
   "source": [
    "class Node:\n",
    "    def __init__(self):\n",
    "        self.data = None\n",
    "        self.next = None\n",
    "    \n",
    "def sort_add_node(new_node):\n",
    "    global head\n",
    "    now_node = head\n",
    "    \n",
    "    if new_node.data < now_node.data:\n",
    "        new_node.next = now_node\n",
    "        head = new_node\n",
    "    else:\n",
    "        while now_node.next:\n",
    "            if new_node.data < now_node.next.data:\n",
    "                new_node.next = now_node.next\n",
    "                now_node.next = new_node\n",
    "                return\n",
    "            now_node = now_node.next\n",
    "        \n",
    "        now_node.next = new_node"
   ]
  },
  {
   "cell_type": "code",
   "execution_count": 3,
   "id": "454557d2",
   "metadata": {},
   "outputs": [
    {
     "name": "stdout",
     "output_type": "stream",
     "text": [
      "추가할 노드 데이터 입력 : aa\n",
      "추가할 노드 데이터 입력 : cc\n",
      "추가할 노드 데이터 입력 : bb\n",
      "추가할 노드 데이터 입력 : q\n"
     ]
    }
   ],
   "source": [
    "# 현조 node 코드\n",
    "class Node :\n",
    "    def __init__(self) :\n",
    "        self.data = None\n",
    "        self.next = None\n",
    "\n",
    "def sort_add_node(new_node) : # 마지막에 노드 추가\n",
    "    global head\n",
    "    now_node = head\n",
    "\n",
    "    if new_node.data < now_node.data : # 새로 들어온 노드의 데이터가 현재 노드의 데이터보다 작으면\n",
    "        new_node.next = now_node  # 새로 들어온 노드의 주소에 현재 노드 입력\n",
    "        head = new_node  # head에 새로운 노드 입력\n",
    "\n",
    "    else :\n",
    "        while now_node.next :\n",
    "            if new_node.data < now_node.next.data :\n",
    "                new_node.next = now_node.next\n",
    "                now_node.next = new_node\n",
    "                return\n",
    "            now_node = now_node.next\n",
    "\n",
    "        now_node.next = new_node\n",
    "\n",
    "def print_node() : # 전체 자료 출력\n",
    "    curr_node = head\n",
    "    while curr_node :\n",
    "        print(curr_node.data, end = ' \\t')\n",
    "        curr_node = curr_node.next\n",
    "\n",
    "head = None\n",
    "\n",
    "while True :\n",
    "    data = input('추가할 노드 데이터 입력 : ')\n",
    "\n",
    "    if data == 'q' :\n",
    "        break\n",
    "\n",
    "    new_node = Node()\n",
    "    new_node.data = data\n",
    "\n",
    "    if not head :\n",
    "        head = new_node\n",
    "    else :\n",
    "        sort_add_node(new_node)"
   ]
  },
  {
   "cell_type": "code",
   "execution_count": 4,
   "id": "d0c91605",
   "metadata": {},
   "outputs": [
    {
     "name": "stdout",
     "output_type": "stream",
     "text": [
      "aa \tbb \tcc \t"
     ]
    }
   ],
   "source": [
    "print_node()"
   ]
  },
  {
   "cell_type": "code",
   "execution_count": null,
   "id": "9e80ea1a",
   "metadata": {},
   "outputs": [],
   "source": []
  }
 ],
 "metadata": {
  "kernelspec": {
   "display_name": "Python 3 (ipykernel)",
   "language": "python",
   "name": "python3"
  },
  "language_info": {
   "codemirror_mode": {
    "name": "ipython",
    "version": 3
   },
   "file_extension": ".py",
   "mimetype": "text/x-python",
   "name": "python",
   "nbconvert_exporter": "python",
   "pygments_lexer": "ipython3",
   "version": "3.9.12"
  }
 },
 "nbformat": 4,
 "nbformat_minor": 5
}
