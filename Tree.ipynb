{
 "cells": [
  {
   "cell_type": "code",
   "execution_count": 3,
   "id": "d94cb64c",
   "metadata": {},
   "outputs": [
    {
     "name": "stdout",
     "output_type": "stream",
     "text": [
      "화사 \n",
      "솔라 문별 \n"
     ]
    }
   ],
   "source": [
    "# 이진 트리\n",
    "class TreeNode() :\n",
    "    def init (self) :\n",
    "        self.left = None\n",
    "        self.data = None\n",
    "        self.right = None\n",
    "\n",
    "node1 = TreeNode()\n",
    "node1.data = '화사'\n",
    "\n",
    "node2 = TreeNode()\n",
    "node2.data = '솔라'\n",
    "node1.left = node2\n",
    "\n",
    "node3 = TreeNode()\n",
    "node3.data = '문별'\n",
    "node1.right = node3\n",
    "\n",
    "node4 = TreeNode()\n",
    "node4.data = '휘인'\n",
    "node2.left = node4\n",
    "\n",
    "node5 = TreeNode()\n",
    "node5.data = '쯔위'\n",
    "node2.right = node5\n",
    "\n",
    "node6 = TreeNode()\n",
    "node6.data = '선미'\n",
    "node3.left = node6\n",
    "\n",
    "print(node1.data, end = ' ')\n",
    "print()\n",
    "print(node1.left.data,  node1.right.data, end = ' ')\n",
    "print()"
   ]
  },
  {
   "cell_type": "code",
   "execution_count": null,
   "id": "70f543af",
   "metadata": {},
   "outputs": [],
   "source": []
  }
 ],
 "metadata": {
  "kernelspec": {
   "display_name": "Python 3 (ipykernel)",
   "language": "python",
   "name": "python3"
  },
  "language_info": {
   "codemirror_mode": {
    "name": "ipython",
    "version": 3
   },
   "file_extension": ".py",
   "mimetype": "text/x-python",
   "name": "python",
   "nbconvert_exporter": "python",
   "pygments_lexer": "ipython3",
   "version": "3.9.12"
  }
 },
 "nbformat": 4,
 "nbformat_minor": 5
}
