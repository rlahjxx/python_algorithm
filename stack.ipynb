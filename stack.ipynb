{
 "cells": [
  {
   "cell_type": "code",
   "execution_count": 1,
   "id": "bf539755",
   "metadata": {},
   "outputs": [
    {
     "name": "stdout",
     "output_type": "stream",
     "text": [
      "None\n",
      "None\n",
      "꿀물\n",
      "녹차\n",
      "커피\n"
     ]
    }
   ],
   "source": [
    "# 스택(stack) : 선입후출, 후입선출 -> 콘에 아이스크림 쌓듯이 먼저 쌓은 맛을 제일 나중에 먹는 것과 같음\n",
    "# 데이터 삽입 -> push, 데이터 추출 -> pop, 0부터 시작하기 때문에 top의 초기값은 -1\n",
    "stack = [None, None, None, None, None]\n",
    "top = -1\n",
    "# 커피 추가\n",
    "top += 1\n",
    "stack[top] = '커피'\n",
    "# 녹차 추가\n",
    "top += 1\n",
    "stack[top] = '녹차'\n",
    "# 꿀물 추가\n",
    "top += 1\n",
    "stack[top] = '꿀물'\n",
    "# stack 자료 출력\n",
    "for i in range(len(stack)-1, -1, -1): # len(stack)에서 -1 하는 이유는 0부터 시작되기 때문\n",
    "    print(stack[i])"
   ]
  },
  {
   "cell_type": "code",
   "execution_count": 4,
   "id": "5dd4d1b0",
   "metadata": {},
   "outputs": [
    {
     "name": "stdout",
     "output_type": "stream",
     "text": [
      "top => 0\n",
      "pop ->  None\n",
      "top => -1\n",
      "pop ->  None\n",
      "None\n",
      "None\n",
      "꿀물\n",
      "None\n",
      "None\n"
     ]
    }
   ],
   "source": [
    "# stack 데이터 추출 방법\n",
    "print('top =>', top)\n",
    "data = stack[top]\n",
    "stack[top] = None\n",
    "top -= 1\n",
    "print('pop -> ', data)\n",
    "\n",
    "print('top =>', top)\n",
    "data = stack[top]\n",
    "stack[top] = None\n",
    "top -= 1\n",
    "print('pop -> ', data)\n",
    "\n",
    "for i in range(len(stack)-1, -1, -1):\n",
    "    print(stack[i])"
   ]
  },
  {
   "cell_type": "code",
   "execution_count": 7,
   "id": "5ce9bace",
   "metadata": {},
   "outputs": [
    {
     "name": "stdout",
     "output_type": "stream",
     "text": [
      "[None, None, None, None, None]\n"
     ]
    }
   ],
   "source": [
    "# 스택 초기화\n",
    "# push() -> stack이 pull로 찼는지 확인 후 자료 삽입\n",
    "# pop() -> stack의 자료가 있는지 확인 후 있으면 자료 추출"
   ]
  },
  {
   "cell_type": "code",
   "execution_count": 30,
   "id": "3460c67b",
   "metadata": {},
   "outputs": [],
   "source": [
    "def push(data):\n",
    "    global top, stack_size, stack\n",
    "    # stack이 full인지 확인\n",
    "    if isStackFull():\n",
    "        print('스택이 꽉 찼습니다.')\n",
    "        return None\n",
    "    top += 1\n",
    "    stack[top] = data\n",
    "    return None\n",
    "\n",
    "def isStackFull():\n",
    "    global top, stack, stack_size, stack\n",
    "    if top == stack_size - 1 : # stack이 full로 찼으면 True로 반환\n",
    "        return True\n",
    "    else:\n",
    "        return False\n",
    "    \n",
    "def pop():\n",
    "    global top, stack, stack_size, stack\n",
    "    if isStackEmpty(): # stack이 비어있는지 확인\n",
    "        print('스택이 비어있습니다.') \n",
    "        return None\n",
    "    data = stack[top]\n",
    "    stack[top] = None\n",
    "    top -= 1\n",
    "    return data\n",
    "\n",
    "def isStackEmpty():\n",
    "    global stack\n",
    "    if top == - 1 : # stack이 비어있으면 True로 반환\n",
    "        return True\n",
    "    else:\n",
    "        return False\n",
    "    \n",
    "def print_stack():\n",
    "    global stack\n",
    "    for i in range(len(stack)-1, -1, -1):\n",
    "        print(stack[i])\n",
    "        \n",
    "def peek():\n",
    "    global top, stack\n",
    "    if top == -1:\n",
    "        print('자료가 없습니다.')\n",
    "        return None\n",
    "    return stack[top]"
   ]
  },
  {
   "cell_type": "code",
   "execution_count": 31,
   "id": "3682d5f9",
   "metadata": {},
   "outputs": [
    {
     "name": "stdout",
     "output_type": "stream",
     "text": [
      "스택 사이즈 입력 : 5\n"
     ]
    }
   ],
   "source": [
    "# stack의 사이즈 지정\n",
    "stack_size = int(input('스택 사이즈 입력 : '))\n",
    "stack = [None for _ in range(stack_size)]\n",
    "top = -1"
   ]
  },
  {
   "cell_type": "code",
   "execution_count": 34,
   "id": "80e54d47",
   "metadata": {},
   "outputs": [],
   "source": [
    "if __name__ == '__main___':\n",
    "    while True:\n",
    "        menu = input('1 : 자료 삽입, 2 : 자료 추출, 3 : 스택의 자료, 4 : 스택의 마지막 자료 확인, 9 : 종료 -> ')\n",
    "        if menu == '9':\n",
    "            break\n",
    "        if menu == '1':\n",
    "            data = input('삽입할 자료 입력 : ')\n",
    "            push(data)  # stack에 자료를 넣는 함수\n",
    "        elif menu == '2':\n",
    "            data = pop()  # stack의 자료를 추출하는 함수\n",
    "            if data:\n",
    "                print('추출한 자료는 ', data)\n",
    "        elif menu == '3':\n",
    "            print_stack()\n",
    "        elif menu == '4':\n",
    "            data = peek()  # 마지막 자료 검색하는 함수\n",
    "            if data:\n",
    "                print('마지막 자료는 ', data)"
   ]
  },
  {
   "cell_type": "code",
   "execution_count": 40,
   "id": "db2f4de8",
   "metadata": {},
   "outputs": [],
   "source": [
    "import webbrowser\n",
    "import time\n",
    "\n",
    "stack_size = 100\n",
    "stack = [None for _ in range(stack_size)]\n",
    "top = -1"
   ]
  },
  {
   "cell_type": "code",
   "execution_count": 42,
   "id": "2e7f586e",
   "metadata": {},
   "outputs": [
    {
     "name": "stdout",
     "output_type": "stream",
     "text": [
      "naver.com-->daum.net-->nate.com-->방문 종료\n",
      "nate.com-->daum.net-->naver.com-->스택이 비어있습니다.\n",
      "방문 종료\n"
     ]
    }
   ],
   "source": [
    "if __name__ == '__main__':\n",
    "    urls = ['naver.com', 'daum.net', 'nate.com']\n",
    "    \n",
    "    for url in urls:\n",
    "        push(url)\n",
    "        webbrowser.open(url)\n",
    "        print(url, end = '-->')\n",
    "        time.sleep(1)\n",
    "    print('방문 종료')\n",
    "    time.sleep(3)\n",
    "    \n",
    "    while True:\n",
    "        url = pop()\n",
    "        if url == None:\n",
    "            break\n",
    "        webbrowser.open( url)\n",
    "        print(url, end = '-->')\n",
    "        time.sleep(1)\n",
    "    print('방문 종료')"
   ]
  },
  {
   "cell_type": "code",
   "execution_count": null,
   "id": "47f5ed60",
   "metadata": {},
   "outputs": [],
   "source": []
  }
 ],
 "metadata": {
  "kernelspec": {
   "display_name": "Python 3 (ipykernel)",
   "language": "python",
   "name": "python3"
  },
  "language_info": {
   "codemirror_mode": {
    "name": "ipython",
    "version": 3
   },
   "file_extension": ".py",
   "mimetype": "text/x-python",
   "name": "python",
   "nbconvert_exporter": "python",
   "pygments_lexer": "ipython3",
   "version": "3.9.12"
  }
 },
 "nbformat": 4,
 "nbformat_minor": 5
}
