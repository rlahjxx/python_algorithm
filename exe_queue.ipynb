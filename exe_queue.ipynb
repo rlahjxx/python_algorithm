{
 "cells": [
  {
   "cell_type": "code",
   "execution_count": 15,
   "id": "0711e098",
   "metadata": {},
   "outputs": [],
   "source": [
    "# queue : 선입선출, 입구와 출구가 존재\n",
    "# a ~ z 까지의 문자 중 랜덤으로 선택해서 queue를 작성\n",
    "# 전체 큐의 개수는 임의로 작성\n",
    "# 작성이 다 끝난 후에 추출할 숫자 입력해서 해당 숫자의 큐 자료 출력 후\n",
    "# 자료 이동 후 큐의 자료 상태 확인\n",
    "# [b, c, a, d, e] -> 2\n",
    "# [a, d, e, None, None]"
   ]
  },
  {
   "cell_type": "code",
   "execution_count": 16,
   "id": "41ce6b52",
   "metadata": {},
   "outputs": [],
   "source": [
    "def enqueue(data):\n",
    "    global queue, rear\n",
    "    if rear == queue_size -1:\n",
    "        print('큐가 꽉 찼습니다.')\n",
    "        return None\n",
    "    rear += 1\n",
    "    queue[rear] = data\n",
    "    \n",
    "def dequeue():\n",
    "    global queue, front\n",
    "    if front == rear:\n",
    "        print('큐가 비었습니다.')\n",
    "        return None\n",
    "    front += 1\n",
    "    data = queue[front]\n",
    "    queue[front] = None\n",
    "    return data\n",
    "\n",
    "def move_queue():\n",
    "    global front, rear, queue\n",
    "    front = 1\n",
    "    while front != rear:\n",
    "        queue[front-1 ] = queue[front]  #  현재  front 자료 추출\n",
    "        front += 1                      #  front 위치 이동\n",
    "    if front:\n",
    "        queue[front-1] = queue[front]   # 마지막 자료 이동\n",
    "        queue[rear] = None              # 마지막 자료  None 처리\n",
    "    else:\n",
    "        queue[0] = None\n",
    "    rear = rear-1                      # 마지막 위치 이동\n",
    "    front = -1                          # front 초기화 "
   ]
  },
  {
   "cell_type": "code",
   "execution_count": 17,
   "id": "bd724a2d",
   "metadata": {},
   "outputs": [],
   "source": [
    "# 입구에서는 변수를 1 증가시키면서 자료 삽입\n",
    "queue_size = 10\n",
    "import random\n",
    "queue = [None for _ in range(queue_size)]\n",
    "\n",
    "a_str = 'abcdefghijklmnopqrstuvwxyz'\n",
    "\n",
    "front = rear = -1\n",
    "for i in range(queue_size):\n",
    "    enqueue(random.choice(a_str))"
   ]
  },
  {
   "cell_type": "code",
   "execution_count": 18,
   "id": "c5ef2441",
   "metadata": {},
   "outputs": [
    {
     "name": "stdout",
     "output_type": "stream",
     "text": [
      "추출할 개수 입력 : 2\n",
      "추출한 자료 :  q\n",
      "추출한 자료 :  g\n"
     ]
    }
   ],
   "source": [
    "dequeue_num = int(input('추출할 개수 입력 : '))\n",
    "for _ in range(dequeue_num):\n",
    "    print('추출한 자료 : ', dequeue())\n",
    "    move_queue()"
   ]
  },
  {
   "cell_type": "code",
   "execution_count": 7,
   "id": "e5a7a4e7",
   "metadata": {},
   "outputs": [
    {
     "name": "stdout",
     "output_type": "stream",
     "text": [
      "['w', 'o', 't', 'i', 'z', 'd', 'z', 'i', 'q', 'e']\n"
     ]
    }
   ],
   "source": [
    "print(queue)"
   ]
  },
  {
   "cell_type": "code",
   "execution_count": 12,
   "id": "6ff74d3a",
   "metadata": {},
   "outputs": [],
   "source": [
    "# 문제1) 이름과 성적을 입력받아 이름에 'q'가 입력되면 입력 종료\n",
    "# 이름의 오름차순으로 이진트리 작성\n",
    "# 검색하고자 하는 이름을 입력하여 트리에서 검색(몇회만에 검색했는지도 출력)\n",
    "# preorder, postorder, inorder 구현"
   ]
  },
  {
   "cell_type": "code",
   "execution_count": 14,
   "id": "05d27fac",
   "metadata": {},
   "outputs": [],
   "source": [
    "# 문제2) 학생의 이름과 성적을 입력받아 double-linked-list에 저장한 후 (이름으로 오름차순 정렬)\n",
    "# 이름의 끝은 이름에 'q'가 입력되면 입력 종료\n",
    "# 1. 전체 자료 출력\n",
    "# 2. 검색하고자 하는 이름을 입력받아 검색된 자료의 이름과 성적 출력\n",
    "# 3. 삭제하고자 하는 자료 입력받아 자료 삭제 후 자료 출력"
   ]
  },
  {
   "cell_type": "code",
   "execution_count": 13,
   "id": "9d69ca25",
   "metadata": {},
   "outputs": [],
   "source": [
    "class Student:\n",
    "    def __init__(self, name, score):\n",
    "        self.name = name\n",
    "        self.score = score\n",
    "        self.prev = None\n",
    "        self.next = None"
   ]
  },
  {
   "cell_type": "code",
   "execution_count": 29,
   "id": "ef9fd2fc",
   "metadata": {},
   "outputs": [],
   "source": [
    "def create_linked_data():\n",
    "    global head  # global -> 바깥에 있는 변수를 정의 함수 안에서 사용 가능하게 해줌\n",
    "    while True:\n",
    "        student = input('학생의 이름과 성적을 입력하세요 : ').split()\n",
    "        if student[0] == 'q':\n",
    "            break\n",
    "        node = Student(student[0], int(student[1]))\n",
    "        \n",
    "        if head == None :  # head는 제일 처음값이 들어올 때만을 제외하고 절대 값이 변하지 않기 떄문에 if문 생성\n",
    "            head = node  # node가 새로 생성될 때마다 같은 변수를 써도 주소가 매번 초기화되어 달라짐\n",
    "        else:\n",
    "            add_link(node)\n",
    "            \n",
    "def add_link(new_node):  # new_node와 위에 있는 add_link의 괄호 안에 있는 node와 같음\n",
    "    global head\n",
    "    \n",
    "    now_node = head\n",
    "    \n",
    "    if new_node.name < now_node.name :  # 1번째) head(초기값)보다 앞에 연결하는 경우\n",
    "        new_node.next = now_node\n",
    "        head = new_node  # head의 값은 절대 변하지 않지만 초기값이 변경되면 그에 따라 head 값도 변경해줘야 함\n",
    "        return\n",
    "    while now_node.next :  # 2번째) 노드들 사이 중간에 연결하는 경우\n",
    "        if new_node.name < now_node.next.name:  \n",
    "            new_node.next = now_node.next  # 주소 먼저 저장\n",
    "            now_node.next = new_node\n",
    "            return\n",
    "        now_node = now_node.next\n",
    "    now_node.next = new_node\n",
    "    \n",
    "def print_link() :\n",
    "    global head\n",
    "    \n",
    "    now_node = head\n",
    "    \n",
    "    while now_node:\n",
    "        print(f'{now_node.name} {now_node.score}')\n",
    "        now_node = now_node.next"
   ]
  },
  {
   "cell_type": "code",
   "execution_count": 28,
   "id": "f25dd4d1",
   "metadata": {},
   "outputs": [
    {
     "name": "stdout",
     "output_type": "stream",
     "text": [
      "학생의 이름과 성적을 입력하세요 : a 10 \n",
      "학생의 이름과 성적을 입력하세요 : b 20\n",
      "학생의 이름과 성적을 입력하세요 : f 30\n",
      "실행\n",
      "학생의 이름과 성적을 입력하세요 : r 40\n",
      "실행\n",
      "실행\n",
      "학생의 이름과 성적을 입력하세요 : q\n",
      "a 10\n",
      "b 20\n",
      "f 30\n"
     ]
    }
   ],
   "source": [
    "# head = > 시작하는 초기값을 알고 기억하기 위해 생성 -> 링크로 데이터가 처음 들어왔을 떄만 값이 변하고 그 이후로 죽을때까지 안 변함\n",
    "head = None\n",
    "create_linked_data()\n",
    "print_link()"
   ]
  },
  {
   "cell_type": "code",
   "execution_count": null,
   "id": "4f55e250",
   "metadata": {},
   "outputs": [],
   "source": [
    "head = None"
   ]
  },
  {
   "cell_type": "code",
   "execution_count": 2,
   "id": "48d1566a",
   "metadata": {},
   "outputs": [],
   "source": [
    "class A :\n",
    "    def __init__ (self) :\n",
    "        self.name = 10"
   ]
  },
  {
   "cell_type": "code",
   "execution_count": 9,
   "id": "9145462d",
   "metadata": {},
   "outputs": [],
   "source": [
    "a = A()"
   ]
  },
  {
   "cell_type": "code",
   "execution_count": 31,
   "id": "c7a7bada",
   "metadata": {},
   "outputs": [
    {
     "name": "stdout",
     "output_type": "stream",
     "text": [
      "IF 문 실행\n",
      "그냥 실해\n"
     ]
    }
   ],
   "source": [
    "if 1 < 10 :\n",
    "    print('IF 문 실행')\n",
    "print('그냥 실해')"
   ]
  },
  {
   "cell_type": "code",
   "execution_count": 33,
   "id": "28832a7a",
   "metadata": {},
   "outputs": [
    {
     "ename": "IndentationError",
     "evalue": "expected an indented block (4265125623.py, line 4)",
     "output_type": "error",
     "traceback": [
      "\u001b[1;36m  Input \u001b[1;32mIn [33]\u001b[1;36m\u001b[0m\n\u001b[1;33m    {\u001b[0m\n\u001b[1;37m    ^\u001b[0m\n\u001b[1;31mIndentationError\u001b[0m\u001b[1;31m:\u001b[0m expected an indented block\n"
     ]
    }
   ],
   "source": [
    "i =0\n",
    "while i< 10 :\n",
    "    if i == 5 :\n",
    "    {\n",
    "        print('if 문 실행')\n",
    "    }\n",
    "    i = i + 1\n",
    "    print('if 문 박에 i : ', i)"
   ]
  },
  {
   "cell_type": "code",
   "execution_count": null,
   "id": "6d0ce230",
   "metadata": {},
   "outputs": [],
   "source": []
  }
 ],
 "metadata": {
  "kernelspec": {
   "display_name": "Python 3 (ipykernel)",
   "language": "python",
   "name": "python3"
  },
  "language_info": {
   "codemirror_mode": {
    "name": "ipython",
    "version": 3
   },
   "file_extension": ".py",
   "mimetype": "text/x-python",
   "name": "python",
   "nbconvert_exporter": "python",
   "pygments_lexer": "ipython3",
   "version": "3.9.12"
  }
 },
 "nbformat": 4,
 "nbformat_minor": 5
}
