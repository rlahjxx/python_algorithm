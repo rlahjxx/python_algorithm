{
 "cells": [
  {
   "cell_type": "code",
   "execution_count": 82,
   "id": "2558e03f",
   "metadata": {},
   "outputs": [],
   "source": [
    "# 이름과 횟수를 리스트에 추가하는 함수 정의\n",
    "def add_data(data, no):         \n",
    "    # 삽입하기 위해 마지막 노드 추가\n",
    "    members.append(None)    \n",
    "    if len(members) == 1:  # 처음 입력\n",
    "        members[0] = (data,no)\n",
    "        return    \n",
    "    \n",
    "    #  추가할 위치 검색 \n",
    "    for i in range(len(members)-1):\n",
    "        if members[i][1] <= no:\n",
    "            insert_data(i, data, no)\n",
    "            return\n",
    "    members[len(members) - 1]= (data, no)\n",
    "\n",
    "\n",
    "# 자료의 삽입 \n",
    "def insert_data(index, data, no):\n",
    "#     members.append(None)       # 빈칸 추가\n",
    "    #  마지막 위치 부터 index  앞까지 뒤에서 부터 -1\n",
    "    for i in range( len(members)-1, index, -1):\n",
    "        members[i] = members[ i - 1 ]\n",
    "        members[ i-1] = None\n",
    "    members[index] = (data, no)  # 지정한 위치에 자료 추가\n",
    "    "
   ]
  },
  {
   "cell_type": "code",
   "execution_count": 75,
   "id": "762255d1",
   "metadata": {},
   "outputs": [],
   "source": [
    "def main():\n",
    "    while True:\n",
    "        data = input(\"추가할 친구 -> \")\n",
    "        if data == 'q':\n",
    "            print('program end')\n",
    "            print(members)\n",
    "            break\n",
    "        \n",
    "        no = int(input('추가할 횟수 -> '))\n",
    "        add_data(data, no)           \n",
    "        print(members)"
   ]
  },
  {
   "cell_type": "code",
   "execution_count": 83,
   "id": "dbe60c28",
   "metadata": {},
   "outputs": [
    {
     "name": "stdout",
     "output_type": "stream",
     "text": [
      "추가할 친구 -> a\n",
      "추가할 횟수 -> 99\n",
      "[('a', 99)]\n",
      "추가할 친구 -> b\n",
      "추가할 횟수 -> 88\n",
      "[('a', 99), ('b', 88)]\n",
      "추가할 친구 -> c 70\n",
      "추가할 횟수 -> d 100\n"
     ]
    },
    {
     "ename": "ValueError",
     "evalue": "invalid literal for int() with base 10: 'd 100'",
     "output_type": "error",
     "traceback": [
      "\u001b[1;31m---------------------------------------------------------------------------\u001b[0m",
      "\u001b[1;31mValueError\u001b[0m                                Traceback (most recent call last)",
      "Input \u001b[1;32mIn [83]\u001b[0m, in \u001b[0;36m<cell line: 3>\u001b[1;34m()\u001b[0m\n\u001b[0;32m      2\u001b[0m members \u001b[38;5;241m=\u001b[39m []\n\u001b[0;32m      3\u001b[0m \u001b[38;5;28;01mif\u001b[39;00m \u001b[38;5;18m__name__\u001b[39m \u001b[38;5;241m==\u001b[39m \u001b[38;5;124m'\u001b[39m\u001b[38;5;124m__main__\u001b[39m\u001b[38;5;124m'\u001b[39m:\n\u001b[1;32m----> 4\u001b[0m     \u001b[43mmain\u001b[49m\u001b[43m(\u001b[49m\u001b[43m)\u001b[49m\n",
      "Input \u001b[1;32mIn [75]\u001b[0m, in \u001b[0;36mmain\u001b[1;34m()\u001b[0m\n\u001b[0;32m      6\u001b[0m     \u001b[38;5;28mprint\u001b[39m(members)\n\u001b[0;32m      7\u001b[0m     \u001b[38;5;28;01mbreak\u001b[39;00m\n\u001b[1;32m----> 9\u001b[0m no \u001b[38;5;241m=\u001b[39m \u001b[38;5;28;43mint\u001b[39;49m\u001b[43m(\u001b[49m\u001b[38;5;28;43minput\u001b[39;49m\u001b[43m(\u001b[49m\u001b[38;5;124;43m'\u001b[39;49m\u001b[38;5;124;43m추가할 횟수 -> \u001b[39;49m\u001b[38;5;124;43m'\u001b[39;49m\u001b[43m)\u001b[49m\u001b[43m)\u001b[49m\n\u001b[0;32m     10\u001b[0m add_data(data, no)           \n\u001b[0;32m     11\u001b[0m \u001b[38;5;28mprint\u001b[39m(members)\n",
      "\u001b[1;31mValueError\u001b[0m: invalid literal for int() with base 10: 'd 100'"
     ]
    }
   ],
   "source": [
    "# 데이터를 추가할 횟수에 따라 정렬해서 저장\n",
    "members = []\n",
    "if __name__ == '__main__':\n",
    "    main()"
   ]
  },
  {
   "cell_type": "code",
   "execution_count": null,
   "id": "46ae16af",
   "metadata": {},
   "outputs": [],
   "source": []
  }
 ],
 "metadata": {
  "kernelspec": {
   "display_name": "Python 3 (ipykernel)",
   "language": "python",
   "name": "python3"
  },
  "language_info": {
   "codemirror_mode": {
    "name": "ipython",
    "version": 3
   },
   "file_extension": ".py",
   "mimetype": "text/x-python",
   "name": "python",
   "nbconvert_exporter": "python",
   "pygments_lexer": "ipython3",
   "version": "3.9.12"
  }
 },
 "nbformat": 4,
 "nbformat_minor": 5
}
