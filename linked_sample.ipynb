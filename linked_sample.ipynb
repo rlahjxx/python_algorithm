{
 "cells": [
  {
   "cell_type": "code",
   "execution_count": null,
   "id": "2c64eafa",
   "metadata": {},
   "outputs": [],
   "source": [
    "# 이름 성적을 입력받아 선형연결로 데이터 저장 -> 순서 없이 마지막에 연결\n",
    "# name score next\n",
    "# 1. 검색 하고자 하는 이름 입력을 받아 해당 자료를 검색 후 이름과 점수 출력\n",
    "# 2. 입력된 자료를 딕셔너리(이름을 키로 성적을 데이터로)로 저장 후 \n",
    "# 3. 성적이 가장 높은 학생의 이름과 성적 출력\n",
    "# 4.  3 번에 찾은 학생의 자료를 삭제 ->  딕셔너리와 링크 자료 둘 다 삭제"
   ]
  },
  {
   "cell_type": "code",
   "execution_count": null,
   "id": "c515383e",
   "metadata": {},
   "outputs": [],
   "source": [
    "# 클래스 정의\n",
    "class Student:\n",
    "    def __init__(self, name, score):\n",
    "        self.name = name\n",
    "        self.score = score\n",
    "        self.next = None"
   ]
  },
  {
   "cell_type": "code",
   "execution_count": 1,
   "id": "c1aca71a",
   "metadata": {},
   "outputs": [],
   "source": [
    "def create_link_data():\n",
    "    global head\n",
    "    while True:\n",
    "        data = input(\" 이름 점수 입력 :\").split()\n",
    "        if data[0] == 'q':\n",
    "            break\n",
    "        # node  생성\n",
    "        node = Student(data[0], int(data[1]))     # Node  생성\n",
    "        # node  추가시 경우의 수 2 ->  처음 추가, 마지막에 추가\n",
    "        if head == None:\n",
    "            head = node\n",
    "        else:\n",
    "            c_node = head\n",
    "            while c_node.next:\n",
    "                c_node = c_node.next\n",
    "            c_node.next = node  #  생성된 노드를 기존의 자료의 마지막에 추가 \n",
    "\n",
    "def search_name(name):\n",
    "    curr_node = head\n",
    "    while curr_node.next:\n",
    "        if curr_node.name == name:\n",
    "            return curr_node\n",
    "        curr_node = curr_node.next\n",
    "        \n",
    "    if curr_node.name == name:\n",
    "        return curr_node\n",
    "    else:\n",
    "        return \n",
    "\n",
    "def link_data_to_dict(\n",
    "    global head\n",
    "    curr_node = head\n",
    "    while curr_node.next:\n",
    "        students[curr_node.name] = curr_node.score\n",
    "        curr_node = curr_node.next\n",
    "    students[curr_node.name] = curr_node.score\n",
    "\n",
    "def search_student_max():\n",
    "    max_score = max([score for name,score in students.items() ])\n",
    "    max_data = []\n",
    "    curr_node = head\n",
    "    while curr_node.next:\n",
    "        if curr_node.score == max_score:\n",
    "            max_data.append(curr_node)\n",
    "        curr_node = curr_node.next\n",
    "    if curr_node.score == max_score:\n",
    "        max_data.append(curr_node)\n",
    "    return max_data\n",
    "\n",
    "def delete_data(del_data):\n",
    "    for data in del_data:\n",
    "        # dictionary  삭제\n",
    "        del students[data.name]\n",
    "        del_node(data)\n",
    "        \n",
    "def del_node(data):\n",
    "    global head\n",
    "    curr_node = head\n",
    "    if head.name == data.name:\n",
    "        head = head.next   # head 의 노드 변경 \n",
    "        del curr_node\n",
    "        return\n",
    "    prev_node = head\n",
    "    while curr_node.next:\n",
    "        if curr_node.name == data.name:\n",
    "            prev_node.next = curr_node.next\n",
    "            del curr_node\n",
    "            return\n",
    "        prev_node = curr_node\n",
    "        curr_node = curr_node.next\n",
    "    if curr_node.name == name:\n",
    "        prev_node.next = None\n",
    "        del curr_node\n",
    "    return\n",
    "\n",
    "def print_data():\n",
    "    curr_node = head   # 시작 위치 지정\n",
    "    while curr_node.next:   # 마지막  노드 전까지 츨력\n",
    "        print(curr_node.name,curr_node.score)\n",
    "        curr_node = curr_node.next\n",
    "    print(curr_node.name,curr_node.score)   # 마지막 노드 출력"
   ]
  },
  {
   "cell_type": "code",
   "execution_count": 2,
   "id": "0eb46375",
   "metadata": {},
   "outputs": [
    {
     "name": "stdout",
     "output_type": "stream",
     "text": [
      " 이름 점수 입력 :a 90\n",
      " 이름 점수 입력 :b 80\n",
      " 이름 점수 입력 :c 70\n",
      " 이름 점수 입력 :d 100\n",
      " 이름 점수 입력 :q\n"
     ]
    }
   ],
   "source": [
    "head = None   # node 가 존재하지 않음 -> 처음 위치 설정\n",
    "students = {}\n",
    "# 자료를 링크 자료로 입력\n",
    "create_link_data()"
   ]
  },
  {
   "cell_type": "code",
   "execution_count": 3,
   "id": "d2a773a4",
   "metadata": {},
   "outputs": [
    {
     "name": "stdout",
     "output_type": "stream",
     "text": [
      "검색하고자 하는 이름 입력 : a\n",
      "a : 90\n"
     ]
    }
   ],
   "source": [
    "# 검색하고자 하는 이름 입력 \n",
    "#    이름에 해당하는 자료 검색\n",
    "name = input('검색하고자 하는 이름 입력 : ')\n",
    "node = search_name(name)\n",
    "if node:\n",
    "    print(f'{node.name} : {node.score}')\n",
    "else:\n",
    "    print('검색하고자 하는 자료 없음 ')"
   ]
  },
  {
   "cell_type": "code",
   "execution_count": 5,
   "id": "baf80693",
   "metadata": {},
   "outputs": [
    {
     "name": "stdout",
     "output_type": "stream",
     "text": [
      "{'a': 90, 'b': 90, 'c': 99, 'd': 88, 'e': 89}\n"
     ]
    }
   ],
   "source": [
    "# 입력된 링크 자료를 딕셔너리로 저장\n",
    "link_data_to_dict()\n",
    "print(students)"
   ]
  },
  {
   "cell_type": "code",
   "execution_count": 11,
   "id": "e00e3882",
   "metadata": {},
   "outputs": [
    {
     "name": "stdout",
     "output_type": "stream",
     "text": [
      "a 90\n",
      "b 90\n"
     ]
    }
   ],
   "source": [
    "# 딕셔너리 자료에서 성적이 가장 높은 학생 검색 후 정보 출력\n",
    "max_data = search_student_max()\n",
    "for student in max_data:\n",
    "    print(student.name, student.score)"
   ]
  },
  {
   "cell_type": "code",
   "execution_count": 12,
   "id": "e3b389d5",
   "metadata": {},
   "outputs": [],
   "source": [
    "# 검색된 자료 삭제\n",
    "delete_data(max_data)"
   ]
  },
  {
   "cell_type": "code",
   "execution_count": 14,
   "id": "f96ee612",
   "metadata": {},
   "outputs": [
    {
     "name": "stdout",
     "output_type": "stream",
     "text": [
      "d 88\n",
      "e 89\n",
      "{'d': 88, 'e': 89}\n"
     ]
    }
   ],
   "source": [
    "# 자료 출력\n",
    "print_data()\n",
    "print(students)"
   ]
  }
 ],
 "metadata": {
  "kernelspec": {
   "display_name": "Python 3 (ipykernel)",
   "language": "python",
   "name": "python3"
  },
  "language_info": {
   "codemirror_mode": {
    "name": "ipython",
    "version": 3
   },
   "file_extension": ".py",
   "mimetype": "text/x-python",
   "name": "python",
   "nbconvert_exporter": "python",
   "pygments_lexer": "ipython3",
   "version": "3.9.12"
  }
 },
 "nbformat": 4,
 "nbformat_minor": 5
}
