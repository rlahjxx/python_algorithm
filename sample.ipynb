{
 "cells": [
  {
   "cell_type": "code",
   "execution_count": null,
   "id": "ee5b6c3a",
   "metadata": {},
   "outputs": [],
   "source": [
    "def num_total(num):\n",
    "    total = 0\n",
    "    for i in range(1, num + 1):\n",
    "        total += i\n",
    "    return total"
   ]
  },
  {
   "cell_type": "code",
   "execution_count": null,
   "id": "7c77ac06",
   "metadata": {},
   "outputs": [],
   "source": [
    "num = int(input('숫자 입력 : '))\n",
    "print(f'1부터 {num}까지의 합은 {total}')"
   ]
  },
  {
   "cell_type": "code",
   "execution_count": null,
   "id": "85e88737",
   "metadata": {},
   "outputs": [],
   "source": [
    "# 문제 1) 1부터 n까지의 숫자의 합을 구함\n",
    "# 1. 입력 : 숫자 n\n",
    "# 2. 알고리즘 : n(n+1) / 2\n",
    "# 3. 결과 출력\n",
    "num = int(input('숫자 입력 : '))\n",
    "total = 0\n",
    "for i in range(1, num + 1):\n",
    "    total += i\n",
    "print(f'1부터 {num}까지의 합은 {total}')"
   ]
  },
  {
   "cell_type": "code",
   "execution_count": null,
   "id": "2f0092de",
   "metadata": {},
   "outputs": [],
   "source": [
    "# 문제 1) 1부터 n까지의 숫자의 합을 구함\n",
    "# 1. 입력 : 숫자 n\n",
    "# 2. 알고리즘 : n(n+1) / 2\n",
    "# 3. 결과 출력\n",
    "print(f'1부터 {num}까지의 합은 {(num)*(num+1)/2}')"
   ]
  },
  {
   "cell_type": "code",
   "execution_count": null,
   "id": "aaf1b2f8",
   "metadata": {},
   "outputs": [],
   "source": [
    "def max_num(list_a):\n",
    "    max_num = list_a[0]\n",
    "    for i in range(1, len(list_a)):\n",
    "        if max_num < list_a[i]:\n",
    "            max_num = list_a[i]\n",
    "    return max_num\n",
    "\n",
    "def min_num(list_a):\n",
    "    min_num = list_a[0]\n",
    "    for i in range(1, len(list_a)):\n",
    "        if min_num > list_a[i]:"
   ]
  },
  {
   "cell_type": "code",
   "execution_count": null,
   "id": "4b3cea68",
   "metadata": {},
   "outputs": [],
   "source": [
    "list_a = [17, 92, 18, 33, 58, 7, 33, 42]\n",
    "print(f'최대값은 : {max_num(list_a)}')"
   ]
  },
  {
   "cell_type": "code",
   "execution_count": null,
   "id": "2cce312d",
   "metadata": {},
   "outputs": [],
   "source": [
    "# 문제 : A~Z 까지의 문제 중에서 10개를 임의로 선택한 후 가장 큰 문자와\n",
    "# 가장 작은 문자 출력\n",
    "import random\n",
    "str_1 = 'ABCDEFGHIJKLMNOPQRSTUVWXYZ'\n",
    "list_str = []\n",
    "for _ in range(10):\n",
    "    list_str.append(random.choice(str_1))\n",
    "print(list_str)\n",
    "\n",
    "print(f'최대값은 {max_num(list_str)}')\n"
   ]
  },
  {
   "cell_type": "code",
   "execution_count": 22,
   "id": "bfa28a92",
   "metadata": {},
   "outputs": [],
   "source": [
    "# 총 몇개를 생성할건지 입력해서 생성\n",
    "# 영문을 3자를 랜덤으로 결합하여 이름으로 생성한 후\n",
    "# 더블링크드리스트로 작성\n",
    "# 입력된 자료 출력\n",
    "\n",
    "# 검색할 이름 입력 -> 검색된 자료 출력, 동명이인 있음, 모두 출력\n",
    "\n",
    "# 더블링크드리스트의 자료를 리스트로 변환\n",
    "# 리스트의 자료 출력\n",
    "# 리스트의 자료중에 동명이인의 명단을 출력\n",
    "# 검색할 이름 입력 -> 검색된 자료 출력, 리스트의 위치 출력"
   ]
  },
  {
   "cell_type": "code",
   "execution_count": 11,
   "id": "5218d7a3",
   "metadata": {},
   "outputs": [],
   "source": [
    "class Node:\n",
    "    def __init__(self, name):\n",
    "        self.name = name\n",
    "        self.prev = None\n",
    "        self.next = None"
   ]
  },
  {
   "cell_type": "code",
   "execution_count": 31,
   "id": "ede22b18",
   "metadata": {},
   "outputs": [],
   "source": [
    "import random\n",
    "def create_name():\n",
    "    data = input('입력할 이름의 수를 적으시오 : ')\n",
    "    input_str = 'ABCDEFGHIJKLMNOPQRSTUVWXYZ'  # ord를 사용하면 문자의 아스키 코드로 변환됨\n",
    "    for i in range(0, int(data)):\n",
    "        s = random.choice(input_str) + random.choice(input_str) + random.choice(input_str)\n",
    "        c_name.append(s)\n",
    "        node_insert(s)\n",
    "    print(c_name)\n",
    "    \n",
    "def node_insert(name):\n",
    "    global head_node\n",
    "    node = Node(name)\n",
    "    \n",
    "    if  head_node == None:\n",
    "        head_node = last_node = node\n",
    "    else:\n",
    "        add_node(node)\n",
    "        \n",
    "def add_node(node):\n",
    "    global head_node, last_node\n",
    "    if node.name < head_node.name:\n",
    "        node.next = head_node\n",
    "        head_node.prev = node\n",
    "        head_node = node\n",
    "        return\n",
    "    \n",
    "    now_node = head_node\n",
    "    while now_node.next:\n",
    "        if node.name < now_node.name:\n",
    "            node.prev = now_node.prev\n",
    "            node.next = now_node\n",
    "            now_node.prev.next = node\n",
    "            now_node.prev = node\n",
    "            return\n",
    "        now_node = now_node.next\n",
    "        \n",
    "    if node.name < now_node.name:\n",
    "        node.prev = now_node.prev\n",
    "        node.next = now_node\n",
    "        now_node.prev.next = node\n",
    "        now_node.prev = node\n",
    "        return\n",
    "    now_node.next = node\n",
    "    node.prev = now_node\n",
    "    last_node = node\n",
    "\n",
    "def print_link():\n",
    "    global head_node, last_node\n",
    "    now_node = head_node\n",
    "    while now_node:\n",
    "        print(now_node.name, end=' ')\n",
    "        now_node = now_node.next\n",
    "    print()\n",
    "    \n",
    "    now_node = last_node\n",
    "    while now_node:\n",
    "        print(now_node.name, end=' ')\n",
    "        now_node = now_node.prev\n",
    "    print() \n",
    "    \n",
    "def link_to_list(list_a):\n",
    "    global head_node\n",
    "    now_node = head_node\n",
    "    while now_node:\n",
    "        list_a.append(now_node.name)\n",
    "        now_node = now_node.next"
   ]
  },
  {
   "cell_type": "code",
   "execution_count": 33,
   "id": "287dc825",
   "metadata": {},
   "outputs": [
    {
     "name": "stdout",
     "output_type": "stream",
     "text": [
      "입력할 이름의 수를 적으시오 : 4\n",
      "['RBL', 'VFO', 'QES', 'OIO']\n",
      "OIO QES RBL VFO \n",
      "VFO RBL QES OIO \n",
      "['OIO', 'QES', 'RBL', 'VFO']\n"
     ]
    }
   ],
   "source": [
    "head_node = last_node = None\n",
    "c_name = []\n",
    "list_a = []\n",
    "create_name()\n",
    "print_link()\n",
    "\n",
    "link_to_list(list_a)\n",
    "print(list_a)"
   ]
  },
  {
   "cell_type": "code",
   "execution_count": 26,
   "id": "e2259e95",
   "metadata": {},
   "outputs": [
    {
     "data": {
      "text/plain": [
       "['GRY', 'NBA', 'NJJ']"
      ]
     },
     "execution_count": 26,
     "metadata": {},
     "output_type": "execute_result"
    }
   ],
   "source": [
    "list_a"
   ]
  },
  {
   "cell_type": "code",
   "execution_count": 28,
   "id": "7f26d22c",
   "metadata": {},
   "outputs": [],
   "source": [
    "class Node:\n",
    "    def init(self,name):\n",
    "        self.prev = None\n",
    "        self.name = name\n",
    "        self.next = None\n",
    "def create_names():   #  영어  A~Z  까지 리스트 생성\n",
    "    list_alpha = []\n",
    "    for x in range(ord('A'), ord('Z')+1):\n",
    "        list_alpha.append(chr(x))\n",
    "    return list_alpha\n",
    "def addnode():\n",
    "    global head, tail\n",
    "    name = ''\n",
    "    for _ in range(3):\n",
    "        name += random.choice(names)\n",
    "\n",
    "    node = Node(name)\n",
    "    #  자료 연결\n",
    "    if head == None:  #  처음 입력 자료\n",
    "        head = tail = node\n",
    "        return None\n",
    " \n",
    "    #  링크드 리스트 마지막에 자료 추가\n",
    "    tail.next = node\n",
    "    node.prev = tail\n",
    "    tail = node\n",
    "def print_node():\n",
    "    global head, tail\n",
    "    curr = head\n",
    "    cnt = 1\n",
    "    while curr != tail:\n",
    "        if cnt % 10:\n",
    "            print(curr.name, end=' -> ')\n",
    "            cnt += 1\n",
    "        else:\n",
    "            print(curr.name)\n",
    "            cnt = 1\n",
    "        curr = curr.next\n",
    "    print(curr.name)"
   ]
  },
  {
   "cell_type": "code",
   "execution_count": null,
   "id": "2a6353fc",
   "metadata": {},
   "outputs": [],
   "source": [
    "# 총 몇개를 생성할건지 입력해서 생성\n",
    "cnt = int(input(\"입력할 개수 입력 :\"))\n",
    "# 영문을 3자를 랜덤으로 결합하여 이름으로 생성한 후\n",
    "names = createnames()\n",
    "print(names)\n",
    "head = tail = None\n",
    "for  in range(cnt): \n",
    "    add_node()  # 더블링크드리스트로 작성\n",
    "# 입력된 자료 출력\n",
    "print_node()"
   ]
  },
  {
   "cell_type": "code",
   "execution_count": 34,
   "id": "d88511fa",
   "metadata": {},
   "outputs": [
    {
     "name": "stdout",
     "output_type": "stream",
     "text": [
      "[385, 252, 114, 121, 341, 168, 303, 392, 362, 175]\n"
     ]
    }
   ],
   "source": [
    "# selection sort :  오름차순 정렬, 가장 작은 값의 위치를 찾아 해당 인덱스의 값과 교환\n",
    "# 100  부터 400까지의 수 중에서 random으로 10개의 숫자 추출\n",
    "import random\n",
    "list_a = []\n",
    "for i in range(10):\n",
    "    list_a.append(random.randint(100, 400))\n",
    "print(list_a)"
   ]
  },
  {
   "cell_type": "code",
   "execution_count": null,
   "id": "7a093926",
   "metadata": {},
   "outputs": [],
   "source": [
    "for i in range(len(list_a)-1):\n",
    "    min_value = i\n",
    "    for j in range(i, len(list_a)-1):\n",
    "        "
   ]
  }
 ],
 "metadata": {
  "kernelspec": {
   "display_name": "Python 3 (ipykernel)",
   "language": "python",
   "name": "python3"
  },
  "language_info": {
   "codemirror_mode": {
    "name": "ipython",
    "version": 3
   },
   "file_extension": ".py",
   "mimetype": "text/x-python",
   "name": "python",
   "nbconvert_exporter": "python",
   "pygments_lexer": "ipython3",
   "version": "3.9.12"
  }
 },
 "nbformat": 4,
 "nbformat_minor": 5
}
