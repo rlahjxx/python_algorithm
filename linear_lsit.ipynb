{
 "cells": [
  {
   "cell_type": "code",
   "execution_count": null,
   "id": "7254c988",
   "metadata": {},
   "outputs": [],
   "source": [
    "# 이름을 리스트에 추가하는 함수 정의\n",
    "def add_data(member):  # 리스트의 마지막에 데이터 추가\n",
    "    members.append(None)  # 삽입하기 위해 마지막 노드 추가\n",
    "    members[len(members) -1] = member"
   ]
  },
  {
   "cell_type": "code",
   "execution_count": null,
   "id": "3c0a8779",
   "metadata": {},
   "outputs": [],
   "source": [
    "members = []    \n",
    "add_data('다현')\n",
    "add_data('정연')\n",
    "add_data('쯔위')\n",
    "add_data('사나')\n",
    "add_data('지효')\n",
    "\n",
    "print(members)"
   ]
  },
  {
   "cell_type": "code",
   "execution_count": null,
   "id": "8d945243",
   "metadata": {},
   "outputs": [],
   "source": [
    "# 자료의 삽입\n",
    "def insert_data(index, member):\n",
    "    if index < 0 or index > len(members):\n",
    "        print('index error')\n",
    "        return\n",
    "    members.append(None)  #  빈칸 추가\n",
    "#     members_len = len(members)  # 자료의 개수\n",
    "    \n",
    "    # 마지막 위치부터 index 앞까지 뒤에서부터 -1\n",
    "    for i in range(len(members) - 1, index, -1):\n",
    "        members[i] = members[ i - 1 ]\n",
    "        members[i-1] = None\n",
    "    members[index] = member"
   ]
  },
  {
   "cell_type": "code",
   "execution_count": null,
   "id": "7e347424",
   "metadata": {},
   "outputs": [],
   "source": [
    "print(members)\n",
    "insert_data(1, '솔라')\n",
    "print(members)"
   ]
  },
  {
   "cell_type": "code",
   "execution_count": null,
   "id": "0777d1cd",
   "metadata": {},
   "outputs": [],
   "source": [
    "def delete_data(index) :\n",
    "    if index < 0 or index > len(members):\n",
    "        print('index error')\n",
    "        return\n",
    "    members[index] = None  # 자료 삭제\n",
    "    #  삭제된 index부터 끝까지 가면서 앞으로 한 칸씩 이동\n",
    "    for i in range(index + 1, len(members)):\n",
    "        members[i-1] = members[i]\n",
    "        members[i] = None\n",
    "    del (members[-1])  # 마지막 자료 (None) 삭제"
   ]
  },
  {
   "cell_type": "code",
   "execution_count": null,
   "id": "532ef570",
   "metadata": {},
   "outputs": [],
   "source": [
    "print(members)\n",
    "delete_data(2)\n",
    "print(members)"
   ]
  },
  {
   "cell_type": "code",
   "execution_count": null,
   "id": "3f134ee7",
   "metadata": {},
   "outputs": [],
   "source": [
    "# 데이터를 메뉴에 따라 1.추가, 2.삽입, 3.삭제, 4.종료\n",
    "members = []\n",
    "select = -1\n",
    "if __name__ == '__main__':\n",
    "    while(select != 4):\n",
    "        select = int(input('1.추가, 2.삽입, 3.삭제, 4.종료 : 선택 -> '))\n",
    "        if select == 1:\n",
    "            data = input('추가할 데이터 -> ')\n",
    "            add_data(data)\n",
    "            print(members)\n",
    "        elif select == 2:\n",
    "            position = int(input('삽입할 위치 : '))\n",
    "            data = data = input('삽입할 데이터 : ')\n",
    "            insert_data(position, data)\n",
    "            print(members)\n",
    "        elif select == 3:\n",
    "            position = int(input('삭제할 위치 : '))\n",
    "            delete_data(position)\n",
    "            print(members)\n",
    "        elif select == 4:\n",
    "            print(members)\n",
    "            break\n",
    "        else:\n",
    "            print('1 ~ 4 중에서 입력')\n",
    "    print(members)"
   ]
  },
  {
   "cell_type": "code",
   "execution_count": null,
   "id": "c63793d3",
   "metadata": {},
   "outputs": [],
   "source": [
    "# 자료의 삽입 \n",
    "def insert_data(index, member):\n",
    "    if index < 0 or index > len(members):\n",
    "        print(\"index error\")\n",
    "        return\n",
    "    members.append(None)       # 빈칸 추가\n",
    "    #  마지막 위치 부터 index  앞까지 뒤에서 부터 -1\n",
    "    for i in range( len(members)-1, index, -1):\n",
    "        members[i] = members[ i - 1 ]\n",
    "        members[ i-1] = None\n",
    "    members[index] = member  # 지정한 위치에 자료 추가\n",
    "\n",
    "# 이름을 리스트에 추가하는 함수 정의\n",
    "def add_data(member):         #  리스트의 마지막에 데이터 추가\n",
    "    members.append(None)      # 삽입하기 위해 마지막 노드 추가\n",
    "    members[ len(members) - 1] = member\n",
    "\n",
    "# 자료의 삭제 \n",
    "def delete_data(index):\n",
    "    if index < 0 or index > len(members):\n",
    "        print(\"index error\")\n",
    "        return\n",
    "    members[index] = None         # 자료 삭제 \n",
    "    #  삭제된  index + 1  부터 끝까지 가면서 앞으로 이동\n",
    "    for i in range( index + 1, len(members)):\n",
    "        members[i-1] = members[ i]\n",
    "        members[i] = None\n",
    "    del(members[-1])    #  마지막 자료 (None) 삭제"
   ]
  },
  {
   "cell_type": "code",
   "execution_count": null,
   "id": "838ed644",
   "metadata": {},
   "outputs": [],
   "source": [
    "def input_menu():\n",
    "    while True:\n",
    "        select = input(\"1.추가, 2.삽입, 3.삭제, 4.종료 :  선택 > \")\n",
    "        if select >= '1' and select <='4':\n",
    "            return int(select)\n",
    "        print(\"1 에서 4 까지의 수만 입력 \")\n",
    "        \n",
    "def position_input(gubun):\n",
    "    while True:\n",
    "        if gubun == 'i':\n",
    "            content = '삽입할 위치 : '\n",
    "        else:\n",
    "            content = '삭제할 위치 : '\n",
    "        position = input(content)\n",
    "        if not position.isdigit():\n",
    "            continue\n",
    "        position = int(position)\n",
    "        if position < 0:\n",
    "            continue\n",
    "        if gubun == 'i' and position > len(members) :\n",
    "            print(f\"index error : 0  부터 {len(members)} 까지만 입력 가능\")\n",
    "            continue\n",
    "        elif gubun == 'd' and position > len(members)-1:\n",
    "            print(f\"index error : 0  부터 {len(members)-1} 까지만 입력 가능\")\n",
    "            continue   \n",
    "        else:\n",
    "            break\n",
    "    return position"
   ]
  },
  {
   "cell_type": "code",
   "execution_count": null,
   "id": "c181b2d5",
   "metadata": {},
   "outputs": [],
   "source": [
    "def main():\n",
    "    while True:\n",
    "        select = input_menu()\n",
    "        if select == 1:\n",
    "            data = input(\"추가할 데이터 -> \")\n",
    "            add_data(data)           \n",
    "        elif select == 2:\n",
    "            insert_data(position_input('i'), input('삽입할 자료 입력 '))\n",
    "        elif select == 3:\n",
    "            delete_data(position_input('d'))\n",
    "        else:\n",
    "            print('program end')\n",
    "            print(members)\n",
    "            break\n",
    "        print(members)"
   ]
  },
  {
   "cell_type": "code",
   "execution_count": null,
   "id": "6f55ec0c",
   "metadata": {},
   "outputs": [],
   "source": [
    "# 데이터를 메뉴에 따라 1.추가, 2.삽입, 3.삭제, 4.종료\n",
    "members = []\n",
    "if __name__ == '__main__':\n",
    "    main()"
   ]
  },
  {
   "cell_type": "code",
   "execution_count": null,
   "id": "b598bb28",
   "metadata": {},
   "outputs": [],
   "source": [
    "# 문제) 카톡 친구 이름과 카톡 횟수를 입력하면 자동으로 위치를 찾아 삽입하는 프로그램\n",
    "kakao = [('다현',200), ('정연',150), ('쯔위',90), ('사나',30), ('지효',15)]\n",
    "# while True:\n",
    "#     friend = input('추가할 친구 --> ')\n",
    "#     message = input('카톡 횟수 --> ')\n",
    "#     if "
   ]
  },
  {
   "cell_type": "code",
   "execution_count": null,
   "id": "517deb84",
   "metadata": {},
   "outputs": [],
   "source": [
    "# 자료의 삽입\n",
    "def max_value(message):\n",
    "    message = input('카톡 횟수 --> ')\n",
    "    for i in range(len(kakao)-1,-1,-1):\n",
    "        if int(message) >= kakao[i][1]:\n",
    "            kakao.append()\n",
    "            kakao[i] = kakao[ i - 1 ]\n",
    "            members[i-1] = None\n",
    "        kakao[i][1] = message"
   ]
  },
  {
   "cell_type": "code",
   "execution_count": null,
   "id": "501acbbd",
   "metadata": {},
   "outputs": [],
   "source": [
    "kakao = [('다현',200), ('정연',150), ('쯔위',90), ('사나',30), ('지효',15)]\n",
    "max_value(message)"
   ]
  },
  {
   "cell_type": "code",
   "execution_count": null,
   "id": "770ca22d",
   "metadata": {},
   "outputs": [],
   "source": [
    "kakao = [('다현',200), ('정연',150), ('쯔위',90), ('사나',30), ('지효',15)]\n",
    "print(kakao[4][1])"
   ]
  },
  {
   "cell_type": "code",
   "execution_count": null,
   "id": "19d7fd6e",
   "metadata": {},
   "outputs": [],
   "source": [
    "# 이름과 횟수를 리스트에 추가하는 함수 정의\n",
    "def add_data(data, no):         \n",
    "    # 삽입하기 위해 마지막 노드 추가\n",
    "    members.append(None)    \n",
    "    if len(members) == 1:  # 처음 입력\n",
    "        members[0] = (data,no)\n",
    "        return    \n",
    "    \n",
    "    #  추가할 위치 검색 \n",
    "    for i in range(len(members)-1):\n",
    "        if members[i][1] <= no:\n",
    "            insert_data(i, data, no)\n",
    "            return\n",
    "    members[len(members) - 1]= (data, no)\n",
    "\n",
    "\n",
    "# 자료의 삽입 \n",
    "def insert_data(index, data, no):\n",
    "#     members.append(None)       # 빈칸 추가\n",
    "    #  마지막 위치 부터 index  앞까지 뒤에서 부터 -1\n",
    "    for i in range( len(members)-1, index, -1):\n",
    "        members[i] = members[ i - 1 ]\n",
    "        members[ i-1] = None\n",
    "    members[index] = (data, no)  # 지정한 위치에 자료 추가"
   ]
  },
  {
   "cell_type": "code",
   "execution_count": null,
   "id": "8c61ab59",
   "metadata": {},
   "outputs": [],
   "source": [
    "def main():\n",
    "    while True:\n",
    "        data = input(\"추가할 친구 -> \")\n",
    "        if data == 'q':\n",
    "            print('program end')\n",
    "            print(members)\n",
    "            break\n",
    "        \n",
    "        no = int(input('추가할 횟수 -> '))\n",
    "        add_data(data, no)           \n",
    "        print(members)"
   ]
  },
  {
   "cell_type": "code",
   "execution_count": null,
   "id": "f0745c70",
   "metadata": {},
   "outputs": [],
   "source": [
    "members = []\n",
    "if __name__ == '__main__':\n",
    "    main()"
   ]
  },
  {
   "cell_type": "code",
   "execution_count": 1,
   "id": "c5028399",
   "metadata": {},
   "outputs": [],
   "source": [
    "# 문제) 'A~Z'까지의 문자를 랜덤으로 2개 결합해서 이름을 100개 생성\n",
    "# 1. create_name() 이름을 생성 1000개\n",
    "# find_same_name()\n",
    "# 2. 이름으로 정렬해서 sort_name()\n",
    "# 처음 10개의 이름과\n",
    "# 마지막 10개의 이름을 출력\n",
    "# 동명이인이 있는 이름과 동명이인인 이름의 갯수 출력 ab 10\n",
    "# final_same_name()\n",
    "c_names = []  # 처음 생성된 이름\n",
    "s_names = []  # 정렬된 이름"
   ]
  },
  {
   "cell_type": "code",
   "execution_count": 57,
   "id": "cbb90353",
   "metadata": {},
   "outputs": [],
   "source": [
    "import random\n",
    "input_str = 'ABCDEFGHIJKLMNOPQRSTUVWXYZ'\n",
    "def create_name():\n",
    "    for i in range(1000):\n",
    "        c_names.append(random.choice(input_str)+random.choice(input_str))\n",
    "#     print(c_names)\n",
    "\n",
    "def sort_insert():\n",
    "    s_names = c_names.copy()\n",
    "    for i in range(len(s_names)-1):\n",
    "        temp = s_names[i]\n",
    "        for j in range(i+1, len(s_names), 1):\n",
    "            if temp > s_names[j]:\n",
    "                s_names[i] = s_names[j]\n",
    "                s_names[j] = temp\n",
    "                temp = s_names[i]\n",
    "    return s_names\n",
    "\n",
    "def print_head_tail():\n",
    "    print(c_names[:10], c_names[-10:])\n",
    "    print(s_names[:10], s_names[-10:])\n",
    "    \n",
    "def final_same_name():\n",
    "    name_dict = {}\n",
    "    for name in s_names:\n",
    "        if name in name_dict:\n",
    "            name_dict[name] += 1\n",
    "        else:\n",
    "            name_dict[name] = 1\n",
    "    return name_dict"
   ]
  },
  {
   "cell_type": "code",
   "execution_count": 64,
   "id": "e8ea86fd",
   "metadata": {},
   "outputs": [
    {
     "name": "stdout",
     "output_type": "stream",
     "text": [
      "AB : 3\n",
      "AC : 3\n",
      "AJ : 3\n",
      "AK : 4\n",
      "AL : 3\n",
      "AN : 3\n",
      "AP : 3\n",
      "AR : 3\n",
      "AW : 3\n",
      "BH : 5\n",
      "BI : 3\n",
      "BM : 3\n",
      "BX : 3\n",
      "CA : 3\n",
      "CC : 4\n",
      "CI : 3\n",
      "CK : 3\n",
      "CQ : 3\n",
      "CZ : 3\n",
      "DA : 4\n",
      "DB : 4\n",
      "DK : 3\n",
      "DS : 4\n",
      "DZ : 3\n",
      "EE : 3\n",
      "EV : 4\n",
      "EX : 5\n",
      "FA : 4\n",
      "FC : 4\n",
      "FL : 6\n",
      "FY : 3\n",
      "FZ : 4\n",
      "GJ : 3\n",
      "HS : 4\n",
      "HU : 5\n",
      "HY : 4\n",
      "HZ : 3\n",
      "IB : 3\n",
      "IK : 4\n",
      "IM : 4\n",
      "IN : 3\n",
      "IP : 3\n",
      "IR : 3\n",
      "JE : 3\n",
      "KF : 3\n",
      "KJ : 4\n",
      "KK : 3\n",
      "KN : 3\n",
      "KR : 5\n",
      "KU : 5\n",
      "LB : 5\n",
      "LD : 4\n",
      "LE : 6\n",
      "LP : 3\n",
      "LY : 3\n",
      "MA : 4\n",
      "MB : 3\n",
      "MI : 5\n",
      "ML : 3\n",
      "MQ : 3\n",
      "MT : 3\n",
      "NB : 3\n",
      "NC : 4\n",
      "OG : 3\n",
      "OI : 4\n",
      "OP : 3\n",
      "OS : 3\n",
      "PE : 4\n",
      "PH : 4\n",
      "PO : 3\n",
      "QC : 4\n",
      "QF : 3\n",
      "QI : 3\n",
      "QK : 3\n",
      "QO : 4\n",
      "QT : 3\n",
      "RE : 3\n",
      "RT : 3\n",
      "RY : 4\n",
      "SA : 3\n",
      "SD : 3\n",
      "SE : 3\n",
      "SH : 3\n",
      "TB : 3\n",
      "TC : 3\n",
      "TM : 4\n",
      "TV : 5\n",
      "TW : 3\n",
      "TZ : 3\n",
      "UC : 3\n",
      "UH : 5\n",
      "UM : 3\n",
      "UW : 3\n",
      "VA : 3\n",
      "VB : 3\n",
      "VF : 3\n",
      "VI : 3\n",
      "VO : 3\n",
      "VT : 3\n",
      "VU : 4\n",
      "WA : 3\n",
      "WB : 4\n",
      "WF : 3\n",
      "WX : 3\n",
      "XE : 5\n",
      "XH : 3\n",
      "XK : 3\n",
      "XN : 3\n",
      "XO : 3\n",
      "XP : 3\n",
      "XY : 3\n",
      "YA : 3\n",
      "YG : 3\n",
      "YM : 3\n",
      "YN : 4\n",
      "YR : 3\n",
      "YT : 4\n",
      "YY : 3\n",
      "ZO : 6\n",
      "ZP : 3\n",
      "ZS : 4\n"
     ]
    }
   ],
   "source": [
    "s_names = []\n",
    "c_names = []\n",
    "create_name()\n",
    "# print(c_names)\n",
    "s_names = sort_insert()\n",
    "# print(c_names)\n",
    "# print(s_names)\n",
    "# print_head_tail()\n",
    "name_dict = final_same_name()\n",
    "\n",
    "for i in name_dict:\n",
    "    if name_dict[i] >= 3:\n",
    "        print(f'{i} : {name_dict[i]}')\n",
    "# print(name_dict)"
   ]
  },
  {
   "cell_type": "code",
   "execution_count": null,
   "id": "802fdbfd",
   "metadata": {},
   "outputs": [],
   "source": [
    "b= []\n",
    "def lalal() :\n",
    "    b = 20\n",
    "    \n",
    "print(b)"
   ]
  },
  {
   "cell_type": "code",
   "execution_count": 10,
   "id": "6a5ec74c",
   "metadata": {},
   "outputs": [
    {
     "name": "stdout",
     "output_type": "stream",
     "text": [
      "[1, 2, 2, 3, 4, 4, 5]\n"
     ]
    }
   ],
   "source": [
    "a = [4,5,2,4,3,2,1]\n",
    "\n",
    "for i in range(len(a)-1):\n",
    "    temp = a[i]\n",
    "    for j in range(i+1 , len(a) , 1):\n",
    "        if a[i] > a[j] :\n",
    "            a[i] = a[j]\n",
    "            a[j] = temp\n",
    "            temp = a[i]\n",
    "#             print(a)\n",
    "print(a)\n",
    "            "
   ]
  },
  {
   "cell_type": "code",
   "execution_count": 38,
   "id": "4e060967",
   "metadata": {},
   "outputs": [],
   "source": [
    "def aaa(vvv) :\n",
    "    print(vvv)\n",
    "    vvv = 10\n",
    "    return vvv , 10 , 20"
   ]
  },
  {
   "cell_type": "code",
   "execution_count": 39,
   "id": "82bb2dee",
   "metadata": {},
   "outputs": [
    {
     "name": "stdout",
     "output_type": "stream",
     "text": [
      "5\n"
     ]
    }
   ],
   "source": [
    "b = aaa(5)"
   ]
  },
  {
   "cell_type": "code",
   "execution_count": 40,
   "id": "eb3bf8dd",
   "metadata": {},
   "outputs": [
    {
     "data": {
      "text/plain": [
       "(10, 10, 20)"
      ]
     },
     "execution_count": 40,
     "metadata": {},
     "output_type": "execute_result"
    }
   ],
   "source": [
    "b"
   ]
  },
  {
   "cell_type": "code",
   "execution_count": null,
   "id": "98d76db1",
   "metadata": {},
   "outputs": [],
   "source": []
  }
 ],
 "metadata": {
  "kernelspec": {
   "display_name": "Python 3 (ipykernel)",
   "language": "python",
   "name": "python3"
  },
  "language_info": {
   "codemirror_mode": {
    "name": "ipython",
    "version": 3
   },
   "file_extension": ".py",
   "mimetype": "text/x-python",
   "name": "python",
   "nbconvert_exporter": "python",
   "pygments_lexer": "ipython3",
   "version": "3.9.12"
  }
 },
 "nbformat": 4,
 "nbformat_minor": 5
}
