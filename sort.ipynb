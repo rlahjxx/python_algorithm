{
 "cells": [
  {
   "cell_type": "code",
   "execution_count": 12,
   "id": "76ba6793",
   "metadata": {},
   "outputs": [
    {
     "data": {
      "text/plain": [
       "[304, 238, 377, 241, 367, 100, 177, 152, 245, 336]"
      ]
     },
     "execution_count": 12,
     "metadata": {},
     "output_type": "execute_result"
    }
   ],
   "source": [
    "# selection sort :  오름차순 정렬, 가장 작은 값의 위치를 찾아 해당 인덱스의 값과 교환\n",
    "# 100  부터 400까지의 수중에서 random으로 10개의 숫자 추출\n",
    "import random\n",
    "\n",
    "list_a = []\n",
    "for _ in range(10):\n",
    "    list_a.append(random.randint(100, 400))  # randint(start, stop) : start에서 stop 까지의 정수\n",
    "list_a"
   ]
  },
  {
   "cell_type": "code",
   "execution_count": 10,
   "id": "5ea09563",
   "metadata": {},
   "outputs": [
    {
     "name": "stdout",
     "output_type": "stream",
     "text": [
      "[104, 117, 135, 172, 274, 339, 373, 388, 388, 391]\n"
     ]
    }
   ],
   "source": [
    "# selection sort : 0인덱스 부터 가장 작은 값으로 변경\n",
    "for i in range(len(list_a)-1) :\n",
    "    min_idx = i\n",
    "    for j in range(i+1, len(list_a)):\n",
    "        if list_a[min_idx] > list_a[j]:\n",
    "            min_idx = j   #  가장 작은 값의 위치 변경\n",
    "    if i != min_idx :   # 가장 작은 값과 i 인덱스의 값을 교환\n",
    "        list_a[i], list_a[min_idx] = list_a[min_idx], list_a[i]\n",
    "print(list_a)"
   ]
  },
  {
   "cell_type": "code",
   "execution_count": 11,
   "id": "246e563d",
   "metadata": {},
   "outputs": [
    {
     "name": "stdout",
     "output_type": "stream",
     "text": [
      "5 4\n"
     ]
    }
   ],
   "source": [
    "a=4; b= 5\n",
    "temp = a\n",
    "a = b\n",
    "b = temp\n",
    "a,b = b, a\n",
    "print(a,b)\n"
   ]
  },
  {
   "cell_type": "code",
   "execution_count": 15,
   "id": "9be41de3",
   "metadata": {},
   "outputs": [
    {
     "name": "stdout",
     "output_type": "stream",
     "text": [
      "[100, 152, 177, 238, 241, 245, 304, 336, 367, 377]\n",
      "after :  [100, 152, 177, 238, 241, 245, 304, 336, 367, 377] 45\n"
     ]
    }
   ],
   "source": [
    "# insertion sort : 뒤에서 부터 두개의 자료를 비교하여 작은 값은 앞으로 \n",
    "print(list_a)\n",
    "cnt = 0\n",
    "for i in range(1, len(list_a)):\n",
    "    for j in range(i, 0, -1):\n",
    "        cnt += 1\n",
    "        if list_a[j] < list_a[j - 1]:\n",
    "            list_a[j], list_a[j-1] = list_a[j-1], list_a[j]\n",
    "print(\"after : \", list_a, cnt)"
   ]
  },
  {
   "cell_type": "code",
   "execution_count": 24,
   "id": "243917d3",
   "metadata": {},
   "outputs": [],
   "source": [
    "def selection_sort(list_a):\n",
    "    cnt = 0\n",
    "    for i in range(len(list_a)-1) :\n",
    "        min_idx = i\n",
    "        for j in range(i+1, len(list_a)):\n",
    "            cnt += 1\n",
    "            if list_a[min_idx] > list_a[j]:\n",
    "                min_idx = j   #  가장 작은 값의 위치 변경\n",
    "        if i != min_idx :   # 가장 작은 값과 i 인덱스의 값을 교환\n",
    "            list_a[i], list_a[min_idx] = list_a[min_idx], list_a[i]\n",
    "    return list_a, cnt\n",
    "\n",
    "def insertion_sort(list_a):\n",
    "    cnt = 0\n",
    "    for i in range(1, len(list_a)):\n",
    "        for j in range(i, 0, -1):\n",
    "            cnt += 1\n",
    "            if list_a[j] < list_a[j - 1]:\n",
    "                list_a[j], list_a[j-1] = list_a[j-1], list_a[j]\n",
    "    return list_a, cnt\n",
    "\n",
    "def create_list():\n",
    "    list_a = []\n",
    "    for _ in range(10):\n",
    "         # randint(start, stop) : start에서 stop 까지의 정수중에서 숫자 하나 선택\n",
    "        list_a.append(random.randint(100, 400)) \n",
    "    return list_a"
   ]
  },
  {
   "cell_type": "code",
   "execution_count": 25,
   "id": "295bfc24",
   "metadata": {},
   "outputs": [
    {
     "name": "stdout",
     "output_type": "stream",
     "text": [
      "[393, 381, 121, 197, 357, 231, 257, 231, 116, 351]\n",
      "selection :  45 [123, 128, 137, 177, 239, 251, 256, 290, 347, 347]\n",
      "insertsort :  45 [106, 115, 150, 155, 258, 282, 309, 329, 387, 391]\n"
     ]
    }
   ],
   "source": [
    "print(list_a)\n",
    "list_a = create_list()\n",
    "lista, cnt = selection_sort(list_a)\n",
    "print('selection sort : ', cnt, list_a)\n",
    "\n",
    "list_a = create_list()\n",
    "list_a, cnt = insertion_sort(list_a)\n",
    "print('insertion sort : ', cnt, list_a)"
   ]
  },
  {
   "cell_type": "code",
   "execution_count": 44,
   "id": "06cdbfed",
   "metadata": {},
   "outputs": [
    {
     "name": "stdout",
     "output_type": "stream",
     "text": [
      "['.ipynb_checkpoints', 'Queue.ipynb', 'Tree.ipynb', 'Untitled.ipynb', 'Untitled1.ipynb', 'Untitled2.ipynb', 'Untitled3.ipynb', 'Untitled4.ipynb', 'double_linked_list.ipynb', 'exe_queue.ipynb', 'linear_list.ipynb', 'linear_list.py', 'linear_list_1.ipynb', 'linear_sort_insert.ipynb', 'linked_sample.ipynb', 'sample.ipynb', 'simple_linked_list.ipynb', 'sort.ipynb', 'stack.ipynb', 'tree-ex.ipynb']\n"
     ]
    }
   ],
   "source": [
    "#  문) 현재 디렉토리의 파일명을 읽어서 정렬해서 결과 출력\n",
    "import os\n",
    "\n",
    "def insert_sort_idx(file_names, file_name):\n",
    "    for i in range(len(file_names)):\n",
    "        if file_name < file_names[i]:\n",
    "            return i\n",
    "    return -1  \n",
    "\n",
    "path = './'\n",
    "file_names = []\n",
    "for file_name in os.listdir(path):\n",
    "    idx = insert_sort_idx(file_names, file_name)\n",
    "    if idx == -1:\n",
    "        file_names.append(file_name)\n",
    "    else:\n",
    "        file_names.insert(idx, file_name)\n",
    "print(file_names)"
   ]
  },
  {
   "cell_type": "code",
   "execution_count": 45,
   "id": "38b5b66b",
   "metadata": {},
   "outputs": [
    {
     "data": {
      "text/plain": [
       "['.ipynb_checkpoints',\n",
       " 'double_linked_list.ipynb',\n",
       " 'exe_queue.ipynb',\n",
       " 'linear_list.ipynb',\n",
       " 'linear_list.py',\n",
       " 'linear_list_1.ipynb',\n",
       " 'linear_sort_insert.ipynb',\n",
       " 'linked_sample.ipynb',\n",
       " 'Queue.ipynb',\n",
       " 'sample.ipynb',\n",
       " 'simple_linked_list.ipynb',\n",
       " 'sort.ipynb',\n",
       " 'stack.ipynb',\n",
       " 'tree-ex.ipynb',\n",
       " 'Tree.ipynb',\n",
       " 'Untitled.ipynb',\n",
       " 'Untitled1.ipynb',\n",
       " 'Untitled2.ipynb',\n",
       " 'Untitled3.ipynb',\n",
       " 'Untitled4.ipynb']"
      ]
     },
     "execution_count": 45,
     "metadata": {},
     "output_type": "execute_result"
    }
   ],
   "source": [
    "os.listdir(path)"
   ]
  },
  {
   "cell_type": "code",
   "execution_count": 42,
   "id": "d6799248",
   "metadata": {},
   "outputs": [],
   "source": [
    "def insert_sort_idx(file_names, file_name):\n",
    "    for i in range(len(file_names)):\n",
    "        if file_name < file_names[i]:\n",
    "            return i\n",
    "    return -1  "
   ]
  },
  {
   "cell_type": "code",
   "execution_count": 52,
   "id": "caf07b58",
   "metadata": {},
   "outputs": [
    {
     "data": {
      "text/plain": [
       "[1, 2, 3, 4, 5, 6]"
      ]
     },
     "execution_count": 52,
     "metadata": {},
     "output_type": "execute_result"
    }
   ],
   "source": [
    "list_b = [ [1,2,3], [4,5,6]]\n",
    "list_c = []\n",
    "for i in list_b:\n",
    "    list_c.extend(i)\n",
    "list_c"
   ]
  },
  {
   "cell_type": "code",
   "execution_count": 61,
   "id": "83d68db0",
   "metadata": {},
   "outputs": [],
   "source": [
    "def array_cnt(list_arr):  # list 요소의 갯수 : 2차원인 경우 모든 요소의 갯수 구함\n",
    "    cnt = 0\n",
    "    for arr in list_arr:\n",
    "        for a in arr:\n",
    "            cnt += 1\n",
    "            \n",
    "    return cnt\n",
    "        \n",
    "def array_flatten(list_arr):\n",
    "    list_a = [ None for _ in range(array_cnt(list_arr))]\n",
    "    idx = 0\n",
    "    for array in list_arr:\n",
    "        if type(array) == list:\n",
    "            for value in array:\n",
    "                list_a[idx] = value\n",
    "                idx += 1\n",
    "        else:\n",
    "            list_a[idx] = array\n",
    "            idx += 1\n",
    "    return list_a"
   ]
  },
  {
   "cell_type": "code",
   "execution_count": 65,
   "id": "de53d81e",
   "metadata": {},
   "outputs": [
    {
     "name": "stdout",
     "output_type": "stream",
     "text": [
      "[[55, 33, 250, 44], [88, 1, 44, 66], [199, 222, 38, 47], [155, 145, 20, 99]]\n",
      "[55, 33, 250, 44, 88, 1, 44, 66, 199, 222, 38, 47, 155, 145, 20, 99]\n",
      "sort  result :  [1, 20, 33, 38, 44, 44, 47, 55, 66, 88, 99, 145, 155, 199, 222, 250]\n",
      "중앙값 :  55\n"
     ]
    }
   ],
   "source": [
    "list_arr = [[55,33,250,44],[88,1,44,66],[199,222,38,47], [155,145,20,99]]\n",
    "print(list_arr)\n",
    "# 1 차원으로 변경\n",
    "list_arr1 = array_flatten(list_arr)  # 1차원으로 변경\n",
    "print(list_arr1)\n",
    "\n",
    "# 정렬\n",
    "list_sort, cnt = insertion_sort(list_arr1)\n",
    "print(\"sort  result : \", list_sort)\n",
    "# 중앙값 출력\n",
    "print('중앙값 : ', list_sort[len(list_sort)//2 -1])"
   ]
  },
  {
   "cell_type": "code",
   "execution_count": 79,
   "id": "d62390ad",
   "metadata": {},
   "outputs": [],
   "source": [
    "def insertion_rev_sort(list_a):\n",
    "    cnt = 0\n",
    "    for i in range(1, len(list_a)):\n",
    "        for j in range(i, 0, -1):\n",
    "            if list_a[j] > list_a[j - 1]:\n",
    "                cnt += 1\n",
    "                list_a[j], list_a[j-1] = list_a[j-1], list_a[j]\n",
    "    return list_a, cnt"
   ]
  },
  {
   "cell_type": "code",
   "execution_count": 80,
   "id": "5e9b5259",
   "metadata": {},
   "outputs": [
    {
     "name": "stdout",
     "output_type": "stream",
     "text": [
      "before :  [95, 160, 137, 170, 58, 139, 42, 5, 117, 154, 141, 193, 106, 83, 124, 50, 34, 165, 132, 96]\n",
      "after :  ([193, 170, 165, 160, 154, 141, 139, 137, 132, 124, 117, 106, 96, 95, 83, 58, 50, 42, 34, 5], 86)\n"
     ]
    }
   ],
   "source": [
    "# 0 과 200 사이의 수를 랜덤으로 발생시켜 20개를 생성한 후 내림차순 정렬 -> 횟수 까지 출력\n",
    "list_arr = []\n",
    "for _ in range(20):\n",
    "    list_arr.append(random.randint(0,200))\n",
    "print(\"before : \", list_arr)\n",
    "print(\"after : \", insertion_rev_sort(list_arr))"
   ]
  },
  {
   "cell_type": "code",
   "execution_count": 78,
   "id": "0bc83ba6",
   "metadata": {},
   "outputs": [],
   "source": [
    "def bubble_sort(list_arr):\n",
    "    cnt = 0\n",
    "    for i in range(len(list_arr)-1, 0, -1):\n",
    "        for j in range(0, i):\n",
    "            if list_arr[j] >  list_arr[j+1]:\n",
    "                cnt += 1\n",
    "                list_arr[j], list_arr[j+1] = list_arr[j+1], list_arr[j]\n",
    "    return list_arr, cnt"
   ]
  },
  {
   "cell_type": "code",
   "execution_count": 82,
   "id": "f24933b2",
   "metadata": {},
   "outputs": [
    {
     "name": "stdout",
     "output_type": "stream",
     "text": [
      "before :  [74, 111, 148, 182, 199, 116, 31, 71, 6, 23, 190, 180, 78, 49, 87, 190, 56, 97, 189, 95]\n",
      "after :  ([6, 23, 31, 49, 56, 71, 74, 78, 87, 95, 97, 111, 116, 148, 180, 182, 189, 190, 190, 199], 93)\n"
     ]
    }
   ],
   "source": [
    "list_arr = []\n",
    "for _ in range(20):\n",
    "    list_arr.append(random.randint(0,200))\n",
    "print(\"before : \", list_arr)\n",
    "print(\"after : \", bubble_sort(list_arr))"
   ]
  },
  {
   "cell_type": "code",
   "execution_count": 3,
   "id": "a6bb6a81",
   "metadata": {},
   "outputs": [],
   "source": [
    "# quick sort :  중앙값을 기준으로 작은 값 -> 왼쪽, 큰값 -> 오른쪽\n",
    "def quick_sort(list_arr):\n",
    "    n = len(list_arr)\n",
    "    if n <= 1:   # 정렬할 개수가 1개이면 정렬 종료\n",
    "        return list_arr\n",
    "    \n",
    "    mid_value = list_arr[ n // 2]  # 중앙값을 지정\n",
    "    left_arr, right_arr, mid_arr = [], [], []    \n",
    "    for value in list_arr:\n",
    "        if value < mid_value:\n",
    "            left_arr.append(value)\n",
    "        elif value > mid_value:\n",
    "            right_arr.append(value)  \n",
    "        else:\n",
    "            mid_arr.append(value)\n",
    "    return quick_sort(left_arr) + mid_arr + quick_sort(right_arr)"
   ]
  },
  {
   "cell_type": "code",
   "execution_count": 4,
   "id": "c865e231",
   "metadata": {},
   "outputs": [
    {
     "name": "stdout",
     "output_type": "stream",
     "text": [
      "before :  [4, 83, 53, 139, 37]\n",
      "after :  [4, 37, 53, 83, 139]\n"
     ]
    }
   ],
   "source": [
    "import random\n",
    "list_arr = []\n",
    "for _ in range(5):\n",
    "    list_arr.append(random.randint(0,200))\n",
    "print(\"before : \", list_arr)\n",
    "print(\"after : \", quick_sort(list_arr))"
   ]
  },
  {
   "cell_type": "code",
   "execution_count": 10,
   "id": "0c1ee679",
   "metadata": {},
   "outputs": [],
   "source": [
    "#   일반적인  qsort(array, start, end)\n",
    "def qsort(list_arr, start, end):\n",
    "    global cnt\n",
    "    if end <= start :\n",
    "        return\n",
    "    \n",
    "    low = start; high = end\n",
    "    mid_value = list_arr[ (low+high) // 2]\n",
    "    while low <= high :\n",
    "        # list_arr의 low의 값이 기준값보다 클때까지 low 증가시킴\n",
    "        while list_arr[low] < mid_value:\n",
    "            low += 1\n",
    "        # list_arr의 high 의 값이 기준값보다 작을때까지 high 감소 시킴  \n",
    "        while list_arr[high] > mid_value:\n",
    "            high -= 1   \n",
    "        if low <= high:\n",
    "            cnt += 1\n",
    "            list_arr[low], list_arr[high] = list_arr[high], list_arr[low] \n",
    "            low += 1; high -= 1\n",
    "    mid_idx = low\n",
    "    qsort(list_arr, start, mid_idx -1 )   # 왼쪽 정렬\n",
    "    qsort(list_arr, mid_idx, end )    # 오른쪽 정렬"
   ]
  },
  {
   "cell_type": "code",
   "execution_count": 14,
   "id": "dbb5bdf7",
   "metadata": {},
   "outputs": [
    {
     "name": "stdout",
     "output_type": "stream",
     "text": [
      "before :  [80, 186, 93, 116, 168, 189, 114, 22, 49, 71, 4, 1, 88, 154, 150, 149, 56, 43, 149, 91]\n",
      "after :  [1, 4, 22, 43, 49, 56, 71, 80, 88, 91, 93, 114, 116, 149, 149, 150, 154, 168, 186, 189] 31\n"
     ]
    }
   ],
   "source": [
    "cnt = 0\n",
    "list_arr = []\n",
    "for _ in range(20):\n",
    "    list_arr.append(random.randint(0,200))\n",
    "print(\"before : \", list_arr)\n",
    "qsort(list_arr, 0,len(list_arr) - 1)\n",
    "print(\"after : \",list_arr, cnt )"
   ]
  }
 ],
 "metadata": {
  "kernelspec": {
   "display_name": "Python 3 (ipykernel)",
   "language": "python",
   "name": "python3"
  },
  "language_info": {
   "codemirror_mode": {
    "name": "ipython",
    "version": 3
   },
   "file_extension": ".py",
   "mimetype": "text/x-python",
   "name": "python",
   "nbconvert_exporter": "python",
   "pygments_lexer": "ipython3",
   "version": "3.9.12"
  }
 },
 "nbformat": 4,
 "nbformat_minor": 5
}
