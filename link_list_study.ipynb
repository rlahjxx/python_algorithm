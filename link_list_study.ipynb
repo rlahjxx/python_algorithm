{
 "cells": [
  {
   "cell_type": "code",
   "execution_count": 1,
   "id": "3bad535d",
   "metadata": {},
   "outputs": [],
   "source": [
    "# 문제2) 학생의 이름과 성적을 입력받아 double-linked-list에 저장한 후 (이름으로 오름차순 정렬)\n",
    "# 이름의 끝은 이름에 'q'가 입력되면 입력 종료\n",
    "# 1. 전체 자료 출력\n",
    "# 2. 검색하고자 하는 이름을 입력받아 검색된 자료의 이름과 성적 출력\n",
    "# 3. 삭제하고자 하는 자료 입력받아 자료 삭제 후 자료 출력"
   ]
  },
  {
   "cell_type": "code",
   "execution_count": 2,
   "id": "41652526",
   "metadata": {},
   "outputs": [],
   "source": [
    "class Student:\n",
    "    def __init__(self, name, score):\n",
    "        self.name = name\n",
    "        self.score = score\n",
    "        self.next = None"
   ]
  },
  {
   "cell_type": "code",
   "execution_count": 4,
   "id": "4c6936e9",
   "metadata": {},
   "outputs": [],
   "source": [
    "# 무작위로 삽입\n",
    "def create_linked_data():\n",
    "    global head  # global -> 바깥에 있는 변수를 정의 함수 안에서 사용 가능하게 해줌\n",
    "    while True:\n",
    "        student = input('학생의 이름과 성적을 입력하세요 : ').split()\n",
    "        if student[0] == 'q':\n",
    "            break\n",
    "        node = Student(student[0], int(student[1]))\n",
    "        \n",
    "        if head == None :  # head는 제일 처음값이 들어올 때만을 제외하고 절대 값이 변하지 않기 떄문에 if문 생성\n",
    "            head = node  # node가 새로 생성될 때마다 같은 변수를 써도 주소가 매번 초기화되어 달라짐\n",
    "        else:\n",
    "            add_link(node)\n",
    "            \n",
    "def add_link(new_node):  # new_node와 위에 있는 add_link의 괄호 안에 있는 node와 같음\n",
    "    global head\n",
    "    \n",
    "    now_node = head\n",
    "    \n",
    "    while now_node.next :\n",
    "        print('실행')\n",
    "        now_node = now_node.next  # node 클래스는 주소를 의미하고 next 변수는 다음 노드의 주소를 연결해줌\n",
    "    now_node.next = new_node\n",
    "    \n",
    "def print_link() :\n",
    "    global head\n",
    "    \n",
    "    now_node = head\n",
    "    \n",
    "    while now_node:\n",
    "        print(f'{now_node.name} {now_node.score}')\n",
    "        now_node = now_node.next\n"
   ]
  },
  {
   "cell_type": "code",
   "execution_count": null,
   "id": "82d8d5e3",
   "metadata": {},
   "outputs": [],
   "source": [
    "# 오름차순 정렬\n",
    "def create_linked_data():\n",
    "    global head  # global -> 바깥에 있는 변수를 정의 함수 안에서 사용 가능하게 해줌\n",
    "    while True:\n",
    "        student = input('학생의 이름과 성적을 입력하세요 : ').split()\n",
    "        if student[0] == 'q':\n",
    "            break\n",
    "        node = Student(student[0], int(student[1]))\n",
    "        \n",
    "        if head == None :  # head는 제일 처음값이 들어올 때만을 제외하고 절대 값이 변하지 않기 떄문에 if문 생성\n",
    "            head = node  # node가 새로 생성될 때마다 같은 변수를 써도 주소가 매번 초기화되어 달라짐\n",
    "        else:\n",
    "            add_link(node)\n",
    "            \n",
    "def add_link(new_node):  # new_node와 위에 있는 add_link의 괄호 안에 있는 node와 같음\n",
    "    global head\n",
    "    \n",
    "    now_node = head\n",
    "    \n",
    "    if new_node.name < now_node.name :  # 1번째) head(초기값)보다 앞에 연결하는 경우\n",
    "        new_node.next = now_node\n",
    "        head = new_node  # head의 값은 절대 변하지 않지만 초기값이 변경되면 그에 따라 head 값도 변경해줘야 함\n",
    "        return\n",
    "    while now_node.next :  # 2번째) 노드들 사이 중간에 연결하는 경우\n",
    "        if new_node.name < now_node.next.name:  \n",
    "            new_node.next = now_node.next  # 주소 먼저 저장\n",
    "            now_node.next = new_node\n",
    "            return\n",
    "        now_node = now_node.next\n",
    "    now_node.next = new_node\n",
    "    \n",
    "def print_link() :\n",
    "    global head\n",
    "    \n",
    "    now_node = head\n",
    "    \n",
    "    while now_node:\n",
    "        print(f'{now_node.name} {now_node.score}')\n",
    "        now_node = now_node.next"
   ]
  },
  {
   "cell_type": "code",
   "execution_count": 3,
   "id": "39a59b49",
   "metadata": {},
   "outputs": [
    {
     "ename": "NameError",
     "evalue": "name 'create_linked_data' is not defined",
     "output_type": "error",
     "traceback": [
      "\u001b[1;31m---------------------------------------------------------------------------\u001b[0m",
      "\u001b[1;31mNameError\u001b[0m                                 Traceback (most recent call last)",
      "Input \u001b[1;32mIn [3]\u001b[0m, in \u001b[0;36m<cell line: 3>\u001b[1;34m()\u001b[0m\n\u001b[0;32m      1\u001b[0m \u001b[38;5;66;03m# head = > 시작하는 초기값을 알고 기억하기 위해 생성 -> 링크로 데이터가 처음 들어왔을 떄만 값이 변하고 그 이후로 죽을때까지 안 변함\u001b[39;00m\n\u001b[0;32m      2\u001b[0m head \u001b[38;5;241m=\u001b[39m \u001b[38;5;28;01mNone\u001b[39;00m\n\u001b[1;32m----> 3\u001b[0m \u001b[43mcreate_linked_data\u001b[49m()\n\u001b[0;32m      4\u001b[0m print_link()\n",
      "\u001b[1;31mNameError\u001b[0m: name 'create_linked_data' is not defined"
     ]
    }
   ],
   "source": [
    "# head = > 시작하는 초기값을 알고 기억하기 위해 생성 -> 링크로 데이터가 처음 들어왔을 떄만 값이 변하고 그 이후로 죽을때까지 안 변함\n",
    "head = None\n",
    "create_linked_data()\n",
    "print_link()"
   ]
  }
 ],
 "metadata": {
  "kernelspec": {
   "display_name": "Python 3 (ipykernel)",
   "language": "python",
   "name": "python3"
  },
  "language_info": {
   "codemirror_mode": {
    "name": "ipython",
    "version": 3
   },
   "file_extension": ".py",
   "mimetype": "text/x-python",
   "name": "python",
   "nbconvert_exporter": "python",
   "pygments_lexer": "ipython3",
   "version": "3.9.12"
  }
 },
 "nbformat": 4,
 "nbformat_minor": 5
}
